{
 "cells": [
  {
   "cell_type": "markdown",
   "metadata": {},
   "source": [
    "> `Execution Editor :  VisualCode Editor`\n",
    "\n",
    "> `Conda Environment : Python_Julia_Env`"
   ]
  },
  {
   "cell_type": "markdown",
   "metadata": {},
   "source": [
    "### Import Libraries"
   ]
  },
  {
   "cell_type": "code",
   "execution_count": 1,
   "metadata": {},
   "outputs": [
    {
     "name": "stderr",
     "output_type": "stream",
     "text": [
      "[ Info: Julia version info\n"
     ]
    },
    {
     "name": "stdout",
     "output_type": "stream",
     "text": [
      "Julia Version 1.7.3\n",
      "Commit 742b9abb4d (2022-05-06 12:58 UTC)\n",
      "Platform Info:\n",
      "  OS: macOS (x86_64-apple-darwin21.4.0)\n",
      "  uname: Darwin 20.6.0 Darwin Kernel Version 20.6.0: Mon Aug 30 06:12:21 PDT 2021; root:xnu-7195.141.6~3/RELEASE_X86_64 x86_64 i386\n",
      "  CPU: Intel(R) Core(TM) i5-5350U CPU @ 1.80GHz: \n",
      "              speed         user         nice          sys         idle          irq\n",
      "       #1  1800 MHz       4548 s          0 s       2199 s      11485 s          0 s\n",
      "       #2  1800 MHz       1368 s          0 s        760 s      16095 s          0 s\n",
      "       #3  1800 MHz       4505 s          0 s       1867 s      11851 s          0 s\n",
      "       #4  1800 MHz       1304 s          0 s        726 s      16192 s          0 s\n",
      "       \n",
      "  Memory: 8.0 GB (246.22265625 MB free)\n",
      "  Uptime: 15694.0 sec\n",
      "  Load Avg:  3.82568359375  4.2861328125  4.57470703125\n",
      "  WORD_SIZE: 64\n",
      "  LIBM: libopenlibm\n",
      "  LLVM: libLLVM-12.0.1 (ORCJIT, broadwell)\n",
      "Environment:\n",
      "  PATH = /opt/anaconda3/envs/Python_Julia_Env/bin:/opt/anaconda3/envs/Python_Julia_Env/bin:/opt/anaconda3/condabin:/usr/local/bin:/usr/bin:/bin:/usr/sbin:/sbin:/Applications/VMware Fusion.app/Contents/Public:/usr/local/go/bin\n",
      "  HOME = /Users/rock\n",
      "  XPC_FLAGS = 0x0\n",
      "  VSCODE_CODE_CACHE_PATH = /Users/rock/Library/Application Support/Code/CachedData/b06ae3b2d2dbfe28bca3134cc6be65935cdfea6a\n",
      "  GOPATH = /Users/rock/go\n",
      "  TERM = xterm-color\n"
     ]
    },
    {
     "name": "stderr",
     "output_type": "stream",
     "text": [
      "[ Info: Julia executable: /Applications/Julia-1.7.app/Contents/Resources/julia/bin/julia\n",
      "[ Info: Trying to import PyCall...\n",
      "┌ Info: PyCall is already installed and compatible with Python executable.\n",
      "│ \n",
      "│ PyCall:\n",
      "│     python: /opt/anaconda3/envs/Python_Julia_Env/bin/python\n",
      "│     libpython: /opt/anaconda3/envs/Python_Julia_Env/lib/libpython3.8.dylib\n",
      "│ Python:\n",
      "│     python: /opt/anaconda3/envs/Python_Julia_Env/bin/python\n",
      "└     libpython: \n"
     ]
    }
   ],
   "source": [
    "import pandas as pd \n",
    "import numpy as np \n",
    "import julia\n",
    "import os\n",
    "from julia import Julia\n",
    "import matplotlib.pyplot as plt \n",
    "import seaborn as sns\n",
    "import warnings\n",
    "\n",
    "julia.install() # Set Julia Environment\n",
    "%matplotlib inline \n",
    "warnings.filterwarnings(\"ignore\")"
   ]
  },
  {
   "cell_type": "markdown",
   "metadata": {},
   "source": [
    "### Julia Object Creation"
   ]
  },
  {
   "cell_type": "code",
   "execution_count": 54,
   "metadata": {},
   "outputs": [],
   "source": [
    "jl = Julia(compiled_modules=False)"
   ]
  },
  {
   "cell_type": "markdown",
   "metadata": {},
   "source": [
    "### Adding Julia Packages"
   ]
  },
  {
   "cell_type": "code",
   "execution_count": 14,
   "metadata": {},
   "outputs": [],
   "source": [
    "# jl.eval('Pkg.add(\"CSV\")')\n",
    "# jl.eval('Pkg.add(\"DataFrames\")')\n",
    "# jl.eval('Pkg.add(\"Pandas\")')\n",
    "# jl.eval('Pkg.add(\"Plots\")')\n",
    "# jl.eval('Pkg.add(\"PyPlot\")')"
   ]
  },
  {
   "cell_type": "markdown",
   "metadata": {},
   "source": [
    "### Importing Julia Modules"
   ]
  },
  {
   "cell_type": "code",
   "execution_count": 15,
   "metadata": {},
   "outputs": [],
   "source": [
    "# jl.eval('using Pandas')\n",
    "# jl.eval('using DataFrames')"
   ]
  },
  {
   "cell_type": "markdown",
   "metadata": {},
   "source": [
    "- `Julia DataFrame`"
   ]
  },
  {
   "cell_type": "code",
   "execution_count": 16,
   "metadata": {},
   "outputs": [],
   "source": [
    "# res = jl.eval('DataFrame(Dict(:age=>[27, 29, 27], :name=>[\"James\", \"Jill\", \"Jake\"]))')\n",
    "# res"
   ]
  },
  {
   "cell_type": "code",
   "execution_count": 17,
   "metadata": {},
   "outputs": [],
   "source": [
    "# jl.typeof(res)"
   ]
  },
  {
   "cell_type": "markdown",
   "metadata": {},
   "source": [
    "- `Print Message`"
   ]
  },
  {
   "cell_type": "code",
   "execution_count": 18,
   "metadata": {},
   "outputs": [
    {
     "name": "stdout",
     "output_type": "stream",
     "text": [
      "Hello Julia"
     ]
    }
   ],
   "source": [
    "jl.eval('print(\"Hello Julia\")')"
   ]
  },
  {
   "cell_type": "markdown",
   "metadata": {},
   "source": [
    "### Python-Julia Modules Import "
   ]
  },
  {
   "cell_type": "code",
   "execution_count": 34,
   "metadata": {},
   "outputs": [
    {
     "name": "stdout",
     "output_type": "stream",
     "text": [
      "Initializing Julia interpreter. This may take some time...\n"
     ]
    }
   ],
   "source": [
    "from julia import Base, Main, Pandas, DataFrames, CSV, Plots\n",
    "\n",
    "%load_ext julia.magic"
   ]
  },
  {
   "cell_type": "markdown",
   "metadata": {},
   "source": [
    "### Julia Statements"
   ]
  },
  {
   "cell_type": "code",
   "execution_count": 42,
   "metadata": {},
   "outputs": [
    {
     "data": {
      "text/plain": [
       "array([ 0,  1,  4,  9, 16], dtype=int64)"
      ]
     },
     "execution_count": 42,
     "metadata": {},
     "output_type": "execute_result"
    }
   ],
   "source": [
    "Main.eval('[x^2 for x in 0:4]')"
   ]
  },
  {
   "cell_type": "code",
   "execution_count": 43,
   "metadata": {},
   "outputs": [
    {
     "data": {
      "text/plain": [
       "array([[0.21631685, 0.9069332 , 0.7911989 ],\n",
       "       [0.86925749, 0.64587215, 0.34224661],\n",
       "       [0.59310177, 0.24723837, 0.190586  ]])"
      ]
     },
     "execution_count": 43,
     "metadata": {},
     "output_type": "execute_result"
    }
   ],
   "source": [
    "Main.eval('A = rand(3, 3)')"
   ]
  },
  {
   "cell_type": "code",
   "execution_count": 44,
   "metadata": {},
   "outputs": [],
   "source": [
    "Main.b = Main.eval('A * ones(3)')"
   ]
  },
  {
   "cell_type": "code",
   "execution_count": 45,
   "metadata": {},
   "outputs": [
    {
     "data": {
      "text/plain": [
       "array([1., 1., 1.])"
      ]
     },
     "execution_count": 45,
     "metadata": {},
     "output_type": "execute_result"
    }
   ],
   "source": [
    "%julia x = A \\ b"
   ]
  },
  {
   "cell_type": "code",
   "execution_count": 48,
   "metadata": {},
   "outputs": [
    {
     "name": "stdout",
     "output_type": "stream",
     "text": [
      "[[0.21631685 0.9069332  0.7911989 ]\n",
      " [0.86925749 0.64587215 0.34224661]\n",
      " [0.59310177 0.24723837 0.190586  ]]\n",
      "[1.91444896 1.85737624 1.03092614]\n",
      "[1. 1. 1.]\n"
     ]
    }
   ],
   "source": [
    "print(Main.A)\n",
    "print(Main.b)\n",
    "print(Main.x)"
   ]
  },
  {
   "cell_type": "markdown",
   "metadata": {},
   "source": [
    "- `Julia DataFrame : Case 1`"
   ]
  },
  {
   "cell_type": "code",
   "execution_count": 20,
   "metadata": {},
   "outputs": [
    {
     "data": {
      "text/plain": [
       "<PyCall.jlwrap 4×1 DataFrame\n",
       " Row │ a\n",
       "     │ Int64\n",
       "─────┼───────\n",
       "   1 │     1\n",
       "   2 │     2\n",
       "   3 │     3\n",
       "   4 │     4>"
      ]
     },
     "execution_count": 20,
     "metadata": {},
     "output_type": "execute_result"
    }
   ],
   "source": [
    "julia_df = DataFrames.DataFrame(a=[1, 2, 3, 4])\n",
    "\n",
    "julia_df"
   ]
  },
  {
   "cell_type": "code",
   "execution_count": 21,
   "metadata": {},
   "outputs": [
    {
     "data": {
      "text/plain": [
       "PyCall.jlwrap"
      ]
     },
     "execution_count": 21,
     "metadata": {},
     "output_type": "execute_result"
    }
   ],
   "source": [
    "type(julia_df)"
   ]
  },
  {
   "cell_type": "code",
   "execution_count": 22,
   "metadata": {},
   "outputs": [
    {
     "data": {
      "text/html": [
       "<div>\n",
       "<style scoped>\n",
       "    .dataframe tbody tr th:only-of-type {\n",
       "        vertical-align: middle;\n",
       "    }\n",
       "\n",
       "    .dataframe tbody tr th {\n",
       "        vertical-align: top;\n",
       "    }\n",
       "\n",
       "    .dataframe thead th {\n",
       "        text-align: right;\n",
       "    }\n",
       "</style>\n",
       "<table border=\"1\" class=\"dataframe\">\n",
       "  <thead>\n",
       "    <tr style=\"text-align: right;\">\n",
       "      <th></th>\n",
       "      <th>a</th>\n",
       "    </tr>\n",
       "  </thead>\n",
       "  <tbody>\n",
       "    <tr>\n",
       "      <th>0</th>\n",
       "      <td>1</td>\n",
       "    </tr>\n",
       "    <tr>\n",
       "      <th>1</th>\n",
       "      <td>2</td>\n",
       "    </tr>\n",
       "    <tr>\n",
       "      <th>2</th>\n",
       "      <td>3</td>\n",
       "    </tr>\n",
       "    <tr>\n",
       "      <th>3</th>\n",
       "      <td>4</td>\n",
       "    </tr>\n",
       "  </tbody>\n",
       "</table>\n",
       "</div>"
      ],
      "text/plain": [
       "   a\n",
       "0  1\n",
       "1  2\n",
       "2  3\n",
       "3  4"
      ]
     },
     "execution_count": 22,
     "metadata": {},
     "output_type": "execute_result"
    }
   ],
   "source": [
    "python_df = Pandas.DataFrame(julia_df)\n",
    "\n",
    "python_df"
   ]
  },
  {
   "cell_type": "markdown",
   "metadata": {},
   "source": [
    "- `Julia DataFrame : Case 2`"
   ]
  },
  {
   "cell_type": "code",
   "execution_count": 36,
   "metadata": {},
   "outputs": [
    {
     "data": {
      "text/html": [
       "<div>\n",
       "<style scoped>\n",
       "    .dataframe tbody tr th:only-of-type {\n",
       "        vertical-align: middle;\n",
       "    }\n",
       "\n",
       "    .dataframe tbody tr th {\n",
       "        vertical-align: top;\n",
       "    }\n",
       "\n",
       "    .dataframe thead th {\n",
       "        text-align: right;\n",
       "    }\n",
       "</style>\n",
       "<table border=\"1\" class=\"dataframe\">\n",
       "  <thead>\n",
       "    <tr style=\"text-align: right;\">\n",
       "      <th></th>\n",
       "      <th>Fruits</th>\n",
       "      <th>Cost</th>\n",
       "    </tr>\n",
       "  </thead>\n",
       "  <tbody>\n",
       "    <tr>\n",
       "      <th>0</th>\n",
       "      <td>Apple</td>\n",
       "      <td>10</td>\n",
       "    </tr>\n",
       "    <tr>\n",
       "      <th>1</th>\n",
       "      <td>Mango</td>\n",
       "      <td>20</td>\n",
       "    </tr>\n",
       "  </tbody>\n",
       "</table>\n",
       "</div>"
      ],
      "text/plain": [
       "  Fruits  Cost\n",
       "0  Apple    10\n",
       "1  Mango    20"
      ]
     },
     "execution_count": 36,
     "metadata": {},
     "output_type": "execute_result"
    }
   ],
   "source": [
    "data = {\n",
    "    'Fruits': [\"Apple\", \"Mango\"],\n",
    "    'Cost': [10, 20]\n",
    "    }\n",
    "\n",
    "df = pd.DataFrame(data, columns = ['Fruits', 'Cost'])\n",
    "df"
   ]
  },
  {
   "cell_type": "code",
   "execution_count": 41,
   "metadata": {},
   "outputs": [],
   "source": [
    "# julia_df = DataFrames.DataFrame(df)\n",
    "# julia_df"
   ]
  },
  {
   "cell_type": "markdown",
   "metadata": {},
   "source": [
    "### Python CSV Import"
   ]
  },
  {
   "cell_type": "code",
   "execution_count": 28,
   "metadata": {},
   "outputs": [
    {
     "data": {
      "text/html": [
       "<div>\n",
       "<style scoped>\n",
       "    .dataframe tbody tr th:only-of-type {\n",
       "        vertical-align: middle;\n",
       "    }\n",
       "\n",
       "    .dataframe tbody tr th {\n",
       "        vertical-align: top;\n",
       "    }\n",
       "\n",
       "    .dataframe thead th {\n",
       "        text-align: right;\n",
       "    }\n",
       "</style>\n",
       "<table border=\"1\" class=\"dataframe\">\n",
       "  <thead>\n",
       "    <tr style=\"text-align: right;\">\n",
       "      <th></th>\n",
       "      <th>sepal_length</th>\n",
       "      <th>sepal_width</th>\n",
       "      <th>petal_length</th>\n",
       "      <th>petal_width</th>\n",
       "      <th>species</th>\n",
       "    </tr>\n",
       "  </thead>\n",
       "  <tbody>\n",
       "    <tr>\n",
       "      <th>0</th>\n",
       "      <td>5.1</td>\n",
       "      <td>3.5</td>\n",
       "      <td>1.4</td>\n",
       "      <td>0.2</td>\n",
       "      <td>setosa</td>\n",
       "    </tr>\n",
       "    <tr>\n",
       "      <th>1</th>\n",
       "      <td>4.9</td>\n",
       "      <td>3.0</td>\n",
       "      <td>1.4</td>\n",
       "      <td>0.2</td>\n",
       "      <td>setosa</td>\n",
       "    </tr>\n",
       "    <tr>\n",
       "      <th>2</th>\n",
       "      <td>4.7</td>\n",
       "      <td>3.2</td>\n",
       "      <td>1.3</td>\n",
       "      <td>0.2</td>\n",
       "      <td>setosa</td>\n",
       "    </tr>\n",
       "    <tr>\n",
       "      <th>3</th>\n",
       "      <td>4.6</td>\n",
       "      <td>3.1</td>\n",
       "      <td>1.5</td>\n",
       "      <td>0.2</td>\n",
       "      <td>setosa</td>\n",
       "    </tr>\n",
       "    <tr>\n",
       "      <th>4</th>\n",
       "      <td>5.0</td>\n",
       "      <td>3.6</td>\n",
       "      <td>1.4</td>\n",
       "      <td>0.2</td>\n",
       "      <td>setosa</td>\n",
       "    </tr>\n",
       "    <tr>\n",
       "      <th>...</th>\n",
       "      <td>...</td>\n",
       "      <td>...</td>\n",
       "      <td>...</td>\n",
       "      <td>...</td>\n",
       "      <td>...</td>\n",
       "    </tr>\n",
       "    <tr>\n",
       "      <th>145</th>\n",
       "      <td>6.7</td>\n",
       "      <td>3.0</td>\n",
       "      <td>5.2</td>\n",
       "      <td>2.3</td>\n",
       "      <td>virginica</td>\n",
       "    </tr>\n",
       "    <tr>\n",
       "      <th>146</th>\n",
       "      <td>6.3</td>\n",
       "      <td>2.5</td>\n",
       "      <td>5.0</td>\n",
       "      <td>1.9</td>\n",
       "      <td>virginica</td>\n",
       "    </tr>\n",
       "    <tr>\n",
       "      <th>147</th>\n",
       "      <td>6.5</td>\n",
       "      <td>3.0</td>\n",
       "      <td>5.2</td>\n",
       "      <td>2.0</td>\n",
       "      <td>virginica</td>\n",
       "    </tr>\n",
       "    <tr>\n",
       "      <th>148</th>\n",
       "      <td>6.2</td>\n",
       "      <td>3.4</td>\n",
       "      <td>5.4</td>\n",
       "      <td>2.3</td>\n",
       "      <td>virginica</td>\n",
       "    </tr>\n",
       "    <tr>\n",
       "      <th>149</th>\n",
       "      <td>5.9</td>\n",
       "      <td>3.0</td>\n",
       "      <td>5.1</td>\n",
       "      <td>1.8</td>\n",
       "      <td>virginica</td>\n",
       "    </tr>\n",
       "  </tbody>\n",
       "</table>\n",
       "<p>150 rows × 5 columns</p>\n",
       "</div>"
      ],
      "text/plain": [
       "     sepal_length  sepal_width  petal_length  petal_width    species\n",
       "0             5.1          3.5           1.4          0.2     setosa\n",
       "1             4.9          3.0           1.4          0.2     setosa\n",
       "2             4.7          3.2           1.3          0.2     setosa\n",
       "3             4.6          3.1           1.5          0.2     setosa\n",
       "4             5.0          3.6           1.4          0.2     setosa\n",
       "..            ...          ...           ...          ...        ...\n",
       "145           6.7          3.0           5.2          2.3  virginica\n",
       "146           6.3          2.5           5.0          1.9  virginica\n",
       "147           6.5          3.0           5.2          2.0  virginica\n",
       "148           6.2          3.4           5.4          2.3  virginica\n",
       "149           5.9          3.0           5.1          1.8  virginica\n",
       "\n",
       "[150 rows x 5 columns]"
      ]
     },
     "execution_count": 28,
     "metadata": {},
     "output_type": "execute_result"
    }
   ],
   "source": [
    "python_df_iris = pd.read_csv(os.path.dirname(os.getcwd()) + \"/Data/iris.csv\")\n",
    "python_df_iris"
   ]
  },
  {
   "cell_type": "code",
   "execution_count": 30,
   "metadata": {},
   "outputs": [
    {
     "data": {
      "text/plain": [
       "pandas.core.frame.DataFrame"
      ]
     },
     "execution_count": 30,
     "metadata": {},
     "output_type": "execute_result"
    }
   ],
   "source": [
    "type(python_df_iris)"
   ]
  },
  {
   "cell_type": "code",
   "execution_count": 32,
   "metadata": {},
   "outputs": [],
   "source": [
    "# julia_df_iris = DataFrames.DataFrame(python_df_iris)\n",
    "# julia_df_iris"
   ]
  },
  {
   "cell_type": "markdown",
   "metadata": {},
   "source": [
    "### Pyjulia Codes : More Systematic Procedure"
   ]
  },
  {
   "cell_type": "code",
   "execution_count": 57,
   "metadata": {},
   "outputs": [
    {
     "data": {
      "text/plain": [
       "'/Users/rock/Git_Repo/Julia_Codes/Scripts'"
      ]
     },
     "execution_count": 57,
     "metadata": {},
     "output_type": "execute_result"
    }
   ],
   "source": [
    "os.getcwd()"
   ]
  },
  {
   "cell_type": "code",
   "execution_count": 66,
   "metadata": {},
   "outputs": [
    {
     "name": "stderr",
     "output_type": "stream",
     "text": [
      "   Resolving package versions...\n",
      "  No Changes to `~/.julia/environments/v1.7/Project.toml`\n",
      "  No Changes to `~/.julia/environments/v1.7/Manifest.toml`\n",
      "   Resolving package versions...\n",
      "  No Changes to `~/.julia/environments/v1.7/Project.toml`\n",
      "  No Changes to `~/.julia/environments/v1.7/Manifest.toml`\n",
      "   Resolving package versions...\n",
      "  No Changes to `~/.julia/environments/v1.7/Project.toml`\n",
      "  No Changes to `~/.julia/environments/v1.7/Manifest.toml`\n",
      "   Resolving package versions...\n",
      "  No Changes to `~/.julia/environments/v1.7/Project.toml`\n",
      "  No Changes to `~/.julia/environments/v1.7/Manifest.toml`\n",
      "   Resolving package versions...\n",
      "  No Changes to `~/.julia/environments/v1.7/Project.toml`\n",
      "  No Changes to `~/.julia/environments/v1.7/Manifest.toml`\n",
      "   Resolving package versions...\n",
      "  No Changes to `~/.julia/environments/v1.7/Project.toml`\n",
      "  No Changes to `~/.julia/environments/v1.7/Manifest.toml`\n",
      "   Resolving package versions...\n",
      "  No Changes to `~/.julia/environments/v1.7/Project.toml`\n",
      "  No Changes to `~/.julia/environments/v1.7/Manifest.toml`\n",
      "   Resolving package versions...\n",
      "  No Changes to `~/.julia/environments/v1.7/Project.toml`\n",
      "  No Changes to `~/.julia/environments/v1.7/Manifest.toml`\n"
     ]
    }
   ],
   "source": [
    "res = jl.include(\"Packages_Installation.jl\")"
   ]
  },
  {
   "cell_type": "markdown",
   "metadata": {},
   "source": [
    "- `Import Libraries`"
   ]
  },
  {
   "cell_type": "code",
   "execution_count": 91,
   "metadata": {},
   "outputs": [],
   "source": [
    "from julia import Base, Main, Pandas, DataFrames, CSV, Plots, StatsBase, StatsPlots, Gadfly, Plots \n",
    "from julia.PyPlot import plot"
   ]
  },
  {
   "cell_type": "markdown",
   "metadata": {},
   "source": [
    "- `Current Working Directory`"
   ]
  },
  {
   "cell_type": "code",
   "execution_count": 68,
   "metadata": {},
   "outputs": [
    {
     "name": "stdout",
     "output_type": "stream",
     "text": [
      "/Users/rock\n",
      "/Users/rock/Git_Repo/Julia_Codes/Scripts\n"
     ]
    }
   ],
   "source": [
    "%julia println(homedir())\n",
    "%julia println(pwd())"
   ]
  },
  {
   "cell_type": "code",
   "execution_count": 69,
   "metadata": {},
   "outputs": [
    {
     "data": {
      "text/plain": [
       "['Packages_Installation.jl', 'Pyjulia_Codes.ipynb']"
      ]
     },
     "execution_count": 69,
     "metadata": {},
     "output_type": "execute_result"
    }
   ],
   "source": [
    "%julia readdir()"
   ]
  },
  {
   "cell_type": "markdown",
   "metadata": {},
   "source": [
    "- `Import CSV File`"
   ]
  },
  {
   "cell_type": "code",
   "execution_count": 73,
   "metadata": {},
   "outputs": [
    {
     "data": {
      "text/plain": [
       "<PyCall.jlwrap 150×5 DataFrame\n",
       " Row │ sepal_length  sepal_width  petal_length  petal_width  species\n",
       "     │ Float64       Float64      Float64       Float64      String15\n",
       "─────┼──────────────────────────────────────────────────────────────────\n",
       "   1 │          5.1          3.5           1.4          0.2  setosa\n",
       "   2 │          4.9          3.0           1.4          0.2  setosa\n",
       "   3 │          4.7          3.2           1.3          0.2  setosa\n",
       "   4 │          4.6          3.1           1.5          0.2  setosa\n",
       "   5 │          5.0          3.6           1.4          0.2  setosa\n",
       "   6 │          5.4          3.9           1.7          0.4  setosa\n",
       "   7 │          4.6          3.4           1.4          0.3  setosa\n",
       "   8 │          5.0          3.4           1.5          0.2  setosa\n",
       "   9 │          4.4          2.9           1.4          0.2  setosa\n",
       "  10 │          4.9          3.1           1.5          0.1  setosa\n",
       "  11 │          5.4          3.7           1.5          0.2  setosa\n",
       "  12 │          4.8          3.4           1.6          0.2  setosa\n",
       "  13 │          4.8          3.0           1.4          0.1  setosa\n",
       "  14 │          4.3          3.0           1.1          0.1  setosa\n",
       "  15 │          5.8          4.0           1.2          0.2  setosa\n",
       "  16 │          5.7          4.4           1.5          0.4  setosa\n",
       "  17 │          5.4          3.9           1.3          0.4  setosa\n",
       "  18 │          5.1          3.5           1.4          0.3  setosa\n",
       "  19 │          5.7          3.8           1.7          0.3  setosa\n",
       "  20 │          5.1          3.8           1.5          0.3  setosa\n",
       "  21 │          5.4          3.4           1.7          0.2  setosa\n",
       "  22 │          5.1          3.7           1.5          0.4  setosa\n",
       "  23 │          4.6          3.6           1.0          0.2  setosa\n",
       "  24 │          5.1          3.3           1.7          0.5  setosa\n",
       "  25 │          4.8          3.4           1.9          0.2  setosa\n",
       "  26 │          5.0          3.0           1.6          0.2  setosa\n",
       "  27 │          5.0          3.4           1.6          0.4  setosa\n",
       "  28 │          5.2          3.5           1.5          0.2  setosa\n",
       "  29 │          5.2          3.4           1.4          0.2  setosa\n",
       "  30 │          4.7          3.2           1.6          0.2  setosa\n",
       "  31 │          4.8          3.1           1.6          0.2  setosa\n",
       "  32 │          5.4          3.4           1.5          0.4  setosa\n",
       "  33 │          5.2          4.1           1.5          0.1  setosa\n",
       "  34 │          5.5          4.2           1.4          0.2  setosa\n",
       "  35 │          4.9          3.1           1.5          0.1  setosa\n",
       "  36 │          5.0          3.2           1.2          0.2  setosa\n",
       "  37 │          5.5          3.5           1.3          0.2  setosa\n",
       "  38 │          4.9          3.1           1.5          0.1  setosa\n",
       "  39 │          4.4          3.0           1.3          0.2  setosa\n",
       "  40 │          5.1          3.4           1.5          0.2  setosa\n",
       "  41 │          5.0          3.5           1.3          0.3  setosa\n",
       "  42 │          4.5          2.3           1.3          0.3  setosa\n",
       "  43 │          4.4          3.2           1.3          0.2  setosa\n",
       "  44 │          5.0          3.5           1.6          0.6  setosa\n",
       "  45 │          5.1          3.8           1.9          0.4  setosa\n",
       "  46 │          4.8          3.0           1.4          0.3  setosa\n",
       "  47 │          5.1          3.8           1.6          0.2  setosa\n",
       "  48 │          4.6          3.2           1.4          0.2  setosa\n",
       "  49 │          5.3          3.7           1.5          0.2  setosa\n",
       "  50 │          5.0          3.3           1.4          0.2  setosa\n",
       "  51 │          7.0          3.2           4.7          1.4  versicolor\n",
       "  52 │          6.4          3.2           4.5          1.5  versicolor\n",
       "  53 │          6.9          3.1           4.9          1.5  versicolor\n",
       "  54 │          5.5          2.3           4.0          1.3  versicolor\n",
       "  55 │          6.5          2.8           4.6          1.5  versicolor\n",
       "  56 │          5.7          2.8           4.5          1.3  versicolor\n",
       "  57 │          6.3          3.3           4.7          1.6  versicolor\n",
       "  58 │          4.9          2.4           3.3          1.0  versicolor\n",
       "  59 │          6.6          2.9           4.6          1.3  versicolor\n",
       "  60 │          5.2          2.7           3.9          1.4  versicolor\n",
       "  61 │          5.0          2.0           3.5          1.0  versicolor\n",
       "  62 │          5.9          3.0           4.2          1.5  versicolor\n",
       "  63 │          6.0          2.2           4.0          1.0  versicolor\n",
       "  64 │          6.1          2.9           4.7          1.4  versicolor\n",
       "  65 │          5.6          2.9           3.6          1.3  versicolor\n",
       "  66 │          6.7          3.1           4.4          1.4  versicolor\n",
       "  67 │          5.6          3.0           4.5          1.5  versicolor\n",
       "  68 │          5.8          2.7           4.1          1.0  versicolor\n",
       "  69 │          6.2          2.2           4.5          1.5  versicolor\n",
       "  70 │          5.6          2.5           3.9          1.1  versicolor\n",
       "  71 │          5.9          3.2           4.8          1.8  versicolor\n",
       "  72 │          6.1          2.8           4.0          1.3  versicolor\n",
       "  73 │          6.3          2.5           4.9          1.5  versicolor\n",
       "  74 │          6.1          2.8           4.7          1.2  versicolor\n",
       "  75 │          6.4          2.9           4.3          1.3  versicolor\n",
       "  76 │          6.6          3.0           4.4          1.4  versicolor\n",
       "  77 │          6.8          2.8           4.8          1.4  versicolor\n",
       "  78 │          6.7          3.0           5.0          1.7  versicolor\n",
       "  79 │          6.0          2.9           4.5          1.5  versicolor\n",
       "  80 │          5.7          2.6           3.5          1.0  versicolor\n",
       "  81 │          5.5          2.4           3.8          1.1  versicolor\n",
       "  82 │          5.5          2.4           3.7          1.0  versicolor\n",
       "  83 │          5.8          2.7           3.9          1.2  versicolor\n",
       "  84 │          6.0          2.7           5.1          1.6  versicolor\n",
       "  85 │          5.4          3.0           4.5          1.5  versicolor\n",
       "  86 │          6.0          3.4           4.5          1.6  versicolor\n",
       "  87 │          6.7          3.1           4.7          1.5  versicolor\n",
       "  88 │          6.3          2.3           4.4          1.3  versicolor\n",
       "  89 │          5.6          3.0           4.1          1.3  versicolor\n",
       "  90 │          5.5          2.5           4.0          1.3  versicolor\n",
       "  91 │          5.5          2.6           4.4          1.2  versicolor\n",
       "  92 │          6.1          3.0           4.6          1.4  versicolor\n",
       "  93 │          5.8          2.6           4.0          1.2  versicolor\n",
       "  94 │          5.0          2.3           3.3          1.0  versicolor\n",
       "  95 │          5.6          2.7           4.2          1.3  versicolor\n",
       "  96 │          5.7          3.0           4.2          1.2  versicolor\n",
       "  97 │          5.7          2.9           4.2          1.3  versicolor\n",
       "  98 │          6.2          2.9           4.3          1.3  versicolor\n",
       "  99 │          5.1          2.5           3.0          1.1  versicolor\n",
       " 100 │          5.7          2.8           4.1          1.3  versicolor\n",
       " 101 │          6.3          3.3           6.0          2.5  virginica\n",
       " 102 │          5.8          2.7           5.1          1.9  virginica\n",
       " 103 │          7.1          3.0           5.9          2.1  virginica\n",
       " 104 │          6.3          2.9           5.6          1.8  virginica\n",
       " 105 │          6.5          3.0           5.8          2.2  virginica\n",
       " 106 │          7.6          3.0           6.6          2.1  virginica\n",
       " 107 │          4.9          2.5           4.5          1.7  virginica\n",
       " 108 │          7.3          2.9           6.3          1.8  virginica\n",
       " 109 │          6.7          2.5           5.8          1.8  virginica\n",
       " 110 │          7.2          3.6           6.1          2.5  virginica\n",
       " 111 │          6.5          3.2           5.1          2.0  virginica\n",
       " 112 │          6.4          2.7           5.3          1.9  virginica\n",
       " 113 │          6.8          3.0           5.5          2.1  virginica\n",
       " 114 │          5.7          2.5           5.0          2.0  virginica\n",
       " 115 │          5.8          2.8           5.1          2.4  virginica\n",
       " 116 │          6.4          3.2           5.3          2.3  virginica\n",
       " 117 │          6.5          3.0           5.5          1.8  virginica\n",
       " 118 │          7.7          3.8           6.7          2.2  virginica\n",
       " 119 │          7.7          2.6           6.9          2.3  virginica\n",
       " 120 │          6.0          2.2           5.0          1.5  virginica\n",
       " 121 │          6.9          3.2           5.7          2.3  virginica\n",
       " 122 │          5.6          2.8           4.9          2.0  virginica\n",
       " 123 │          7.7          2.8           6.7          2.0  virginica\n",
       " 124 │          6.3          2.7           4.9          1.8  virginica\n",
       " 125 │          6.7          3.3           5.7          2.1  virginica\n",
       " 126 │          7.2          3.2           6.0          1.8  virginica\n",
       " 127 │          6.2          2.8           4.8          1.8  virginica\n",
       " 128 │          6.1          3.0           4.9          1.8  virginica\n",
       " 129 │          6.4          2.8           5.6          2.1  virginica\n",
       " 130 │          7.2          3.0           5.8          1.6  virginica\n",
       " 131 │          7.4          2.8           6.1          1.9  virginica\n",
       " 132 │          7.9          3.8           6.4          2.0  virginica\n",
       " 133 │          6.4          2.8           5.6          2.2  virginica\n",
       " 134 │          6.3          2.8           5.1          1.5  virginica\n",
       " 135 │          6.1          2.6           5.6          1.4  virginica\n",
       " 136 │          7.7          3.0           6.1          2.3  virginica\n",
       " 137 │          6.3          3.4           5.6          2.4  virginica\n",
       " 138 │          6.4          3.1           5.5          1.8  virginica\n",
       " 139 │          6.0          3.0           4.8          1.8  virginica\n",
       " 140 │          6.9          3.1           5.4          2.1  virginica\n",
       " 141 │          6.7          3.1           5.6          2.4  virginica\n",
       " 142 │          6.9          3.1           5.1          2.3  virginica\n",
       " 143 │          5.8          2.7           5.1          1.9  virginica\n",
       " 144 │          6.8          3.2           5.9          2.3  virginica\n",
       " 145 │          6.7          3.3           5.7          2.5  virginica\n",
       " 146 │          6.7          3.0           5.2          2.3  virginica\n",
       " 147 │          6.3          2.5           5.0          1.9  virginica\n",
       " 148 │          6.5          3.0           5.2          2.0  virginica\n",
       " 149 │          6.2          3.4           5.4          2.3  virginica\n",
       " 150 │          5.9          3.0           5.1          1.8  virginica>"
      ]
     },
     "execution_count": 73,
     "metadata": {},
     "output_type": "execute_result"
    }
   ],
   "source": [
    "file_path = os.path.dirname(os.getcwd()) + \"/Data/iris.csv\"\n",
    "\n",
    "Main.eval('using CSV')\n",
    "Main.eval('using DataFrames')\n",
    "Main.eval('jdf = CSV.read(\"{}\", DataFrames.DataFrame)'.format(file_path))"
   ]
  },
  {
   "cell_type": "code",
   "execution_count": 75,
   "metadata": {},
   "outputs": [
    {
     "data": {
      "text/plain": [
       "<PyCall.jlwrap 150×5 DataFrame\n",
       " Row │ sepal_length  sepal_width  petal_length  petal_width  species\n",
       "     │ Float64       Float64      Float64       Float64      String15\n",
       "─────┼──────────────────────────────────────────────────────────────────\n",
       "   1 │          5.1          3.5           1.4          0.2  setosa\n",
       "   2 │          4.9          3.0           1.4          0.2  setosa\n",
       "   3 │          4.7          3.2           1.3          0.2  setosa\n",
       "   4 │          4.6          3.1           1.5          0.2  setosa\n",
       "   5 │          5.0          3.6           1.4          0.2  setosa\n",
       "   6 │          5.4          3.9           1.7          0.4  setosa\n",
       "   7 │          4.6          3.4           1.4          0.3  setosa\n",
       "   8 │          5.0          3.4           1.5          0.2  setosa\n",
       "   9 │          4.4          2.9           1.4          0.2  setosa\n",
       "  10 │          4.9          3.1           1.5          0.1  setosa\n",
       "  11 │          5.4          3.7           1.5          0.2  setosa\n",
       "  12 │          4.8          3.4           1.6          0.2  setosa\n",
       "  13 │          4.8          3.0           1.4          0.1  setosa\n",
       "  14 │          4.3          3.0           1.1          0.1  setosa\n",
       "  15 │          5.8          4.0           1.2          0.2  setosa\n",
       "  16 │          5.7          4.4           1.5          0.4  setosa\n",
       "  17 │          5.4          3.9           1.3          0.4  setosa\n",
       "  18 │          5.1          3.5           1.4          0.3  setosa\n",
       "  19 │          5.7          3.8           1.7          0.3  setosa\n",
       "  20 │          5.1          3.8           1.5          0.3  setosa\n",
       "  21 │          5.4          3.4           1.7          0.2  setosa\n",
       "  22 │          5.1          3.7           1.5          0.4  setosa\n",
       "  23 │          4.6          3.6           1.0          0.2  setosa\n",
       "  24 │          5.1          3.3           1.7          0.5  setosa\n",
       "  25 │          4.8          3.4           1.9          0.2  setosa\n",
       "  26 │          5.0          3.0           1.6          0.2  setosa\n",
       "  27 │          5.0          3.4           1.6          0.4  setosa\n",
       "  28 │          5.2          3.5           1.5          0.2  setosa\n",
       "  29 │          5.2          3.4           1.4          0.2  setosa\n",
       "  30 │          4.7          3.2           1.6          0.2  setosa\n",
       "  31 │          4.8          3.1           1.6          0.2  setosa\n",
       "  32 │          5.4          3.4           1.5          0.4  setosa\n",
       "  33 │          5.2          4.1           1.5          0.1  setosa\n",
       "  34 │          5.5          4.2           1.4          0.2  setosa\n",
       "  35 │          4.9          3.1           1.5          0.1  setosa\n",
       "  36 │          5.0          3.2           1.2          0.2  setosa\n",
       "  37 │          5.5          3.5           1.3          0.2  setosa\n",
       "  38 │          4.9          3.1           1.5          0.1  setosa\n",
       "  39 │          4.4          3.0           1.3          0.2  setosa\n",
       "  40 │          5.1          3.4           1.5          0.2  setosa\n",
       "  41 │          5.0          3.5           1.3          0.3  setosa\n",
       "  42 │          4.5          2.3           1.3          0.3  setosa\n",
       "  43 │          4.4          3.2           1.3          0.2  setosa\n",
       "  44 │          5.0          3.5           1.6          0.6  setosa\n",
       "  45 │          5.1          3.8           1.9          0.4  setosa\n",
       "  46 │          4.8          3.0           1.4          0.3  setosa\n",
       "  47 │          5.1          3.8           1.6          0.2  setosa\n",
       "  48 │          4.6          3.2           1.4          0.2  setosa\n",
       "  49 │          5.3          3.7           1.5          0.2  setosa\n",
       "  50 │          5.0          3.3           1.4          0.2  setosa\n",
       "  51 │          7.0          3.2           4.7          1.4  versicolor\n",
       "  52 │          6.4          3.2           4.5          1.5  versicolor\n",
       "  53 │          6.9          3.1           4.9          1.5  versicolor\n",
       "  54 │          5.5          2.3           4.0          1.3  versicolor\n",
       "  55 │          6.5          2.8           4.6          1.5  versicolor\n",
       "  56 │          5.7          2.8           4.5          1.3  versicolor\n",
       "  57 │          6.3          3.3           4.7          1.6  versicolor\n",
       "  58 │          4.9          2.4           3.3          1.0  versicolor\n",
       "  59 │          6.6          2.9           4.6          1.3  versicolor\n",
       "  60 │          5.2          2.7           3.9          1.4  versicolor\n",
       "  61 │          5.0          2.0           3.5          1.0  versicolor\n",
       "  62 │          5.9          3.0           4.2          1.5  versicolor\n",
       "  63 │          6.0          2.2           4.0          1.0  versicolor\n",
       "  64 │          6.1          2.9           4.7          1.4  versicolor\n",
       "  65 │          5.6          2.9           3.6          1.3  versicolor\n",
       "  66 │          6.7          3.1           4.4          1.4  versicolor\n",
       "  67 │          5.6          3.0           4.5          1.5  versicolor\n",
       "  68 │          5.8          2.7           4.1          1.0  versicolor\n",
       "  69 │          6.2          2.2           4.5          1.5  versicolor\n",
       "  70 │          5.6          2.5           3.9          1.1  versicolor\n",
       "  71 │          5.9          3.2           4.8          1.8  versicolor\n",
       "  72 │          6.1          2.8           4.0          1.3  versicolor\n",
       "  73 │          6.3          2.5           4.9          1.5  versicolor\n",
       "  74 │          6.1          2.8           4.7          1.2  versicolor\n",
       "  75 │          6.4          2.9           4.3          1.3  versicolor\n",
       "  76 │          6.6          3.0           4.4          1.4  versicolor\n",
       "  77 │          6.8          2.8           4.8          1.4  versicolor\n",
       "  78 │          6.7          3.0           5.0          1.7  versicolor\n",
       "  79 │          6.0          2.9           4.5          1.5  versicolor\n",
       "  80 │          5.7          2.6           3.5          1.0  versicolor\n",
       "  81 │          5.5          2.4           3.8          1.1  versicolor\n",
       "  82 │          5.5          2.4           3.7          1.0  versicolor\n",
       "  83 │          5.8          2.7           3.9          1.2  versicolor\n",
       "  84 │          6.0          2.7           5.1          1.6  versicolor\n",
       "  85 │          5.4          3.0           4.5          1.5  versicolor\n",
       "  86 │          6.0          3.4           4.5          1.6  versicolor\n",
       "  87 │          6.7          3.1           4.7          1.5  versicolor\n",
       "  88 │          6.3          2.3           4.4          1.3  versicolor\n",
       "  89 │          5.6          3.0           4.1          1.3  versicolor\n",
       "  90 │          5.5          2.5           4.0          1.3  versicolor\n",
       "  91 │          5.5          2.6           4.4          1.2  versicolor\n",
       "  92 │          6.1          3.0           4.6          1.4  versicolor\n",
       "  93 │          5.8          2.6           4.0          1.2  versicolor\n",
       "  94 │          5.0          2.3           3.3          1.0  versicolor\n",
       "  95 │          5.6          2.7           4.2          1.3  versicolor\n",
       "  96 │          5.7          3.0           4.2          1.2  versicolor\n",
       "  97 │          5.7          2.9           4.2          1.3  versicolor\n",
       "  98 │          6.2          2.9           4.3          1.3  versicolor\n",
       "  99 │          5.1          2.5           3.0          1.1  versicolor\n",
       " 100 │          5.7          2.8           4.1          1.3  versicolor\n",
       " 101 │          6.3          3.3           6.0          2.5  virginica\n",
       " 102 │          5.8          2.7           5.1          1.9  virginica\n",
       " 103 │          7.1          3.0           5.9          2.1  virginica\n",
       " 104 │          6.3          2.9           5.6          1.8  virginica\n",
       " 105 │          6.5          3.0           5.8          2.2  virginica\n",
       " 106 │          7.6          3.0           6.6          2.1  virginica\n",
       " 107 │          4.9          2.5           4.5          1.7  virginica\n",
       " 108 │          7.3          2.9           6.3          1.8  virginica\n",
       " 109 │          6.7          2.5           5.8          1.8  virginica\n",
       " 110 │          7.2          3.6           6.1          2.5  virginica\n",
       " 111 │          6.5          3.2           5.1          2.0  virginica\n",
       " 112 │          6.4          2.7           5.3          1.9  virginica\n",
       " 113 │          6.8          3.0           5.5          2.1  virginica\n",
       " 114 │          5.7          2.5           5.0          2.0  virginica\n",
       " 115 │          5.8          2.8           5.1          2.4  virginica\n",
       " 116 │          6.4          3.2           5.3          2.3  virginica\n",
       " 117 │          6.5          3.0           5.5          1.8  virginica\n",
       " 118 │          7.7          3.8           6.7          2.2  virginica\n",
       " 119 │          7.7          2.6           6.9          2.3  virginica\n",
       " 120 │          6.0          2.2           5.0          1.5  virginica\n",
       " 121 │          6.9          3.2           5.7          2.3  virginica\n",
       " 122 │          5.6          2.8           4.9          2.0  virginica\n",
       " 123 │          7.7          2.8           6.7          2.0  virginica\n",
       " 124 │          6.3          2.7           4.9          1.8  virginica\n",
       " 125 │          6.7          3.3           5.7          2.1  virginica\n",
       " 126 │          7.2          3.2           6.0          1.8  virginica\n",
       " 127 │          6.2          2.8           4.8          1.8  virginica\n",
       " 128 │          6.1          3.0           4.9          1.8  virginica\n",
       " 129 │          6.4          2.8           5.6          2.1  virginica\n",
       " 130 │          7.2          3.0           5.8          1.6  virginica\n",
       " 131 │          7.4          2.8           6.1          1.9  virginica\n",
       " 132 │          7.9          3.8           6.4          2.0  virginica\n",
       " 133 │          6.4          2.8           5.6          2.2  virginica\n",
       " 134 │          6.3          2.8           5.1          1.5  virginica\n",
       " 135 │          6.1          2.6           5.6          1.4  virginica\n",
       " 136 │          7.7          3.0           6.1          2.3  virginica\n",
       " 137 │          6.3          3.4           5.6          2.4  virginica\n",
       " 138 │          6.4          3.1           5.5          1.8  virginica\n",
       " 139 │          6.0          3.0           4.8          1.8  virginica\n",
       " 140 │          6.9          3.1           5.4          2.1  virginica\n",
       " 141 │          6.7          3.1           5.6          2.4  virginica\n",
       " 142 │          6.9          3.1           5.1          2.3  virginica\n",
       " 143 │          5.8          2.7           5.1          1.9  virginica\n",
       " 144 │          6.8          3.2           5.9          2.3  virginica\n",
       " 145 │          6.7          3.3           5.7          2.5  virginica\n",
       " 146 │          6.7          3.0           5.2          2.3  virginica\n",
       " 147 │          6.3          2.5           5.0          1.9  virginica\n",
       " 148 │          6.5          3.0           5.2          2.0  virginica\n",
       " 149 │          6.2          3.4           5.4          2.3  virginica\n",
       " 150 │          5.9          3.0           5.1          1.8  virginica>"
      ]
     },
     "execution_count": 75,
     "metadata": {},
     "output_type": "execute_result"
    }
   ],
   "source": [
    "Main.jdf"
   ]
  },
  {
   "cell_type": "code",
   "execution_count": 76,
   "metadata": {},
   "outputs": [
    {
     "data": {
      "text/plain": [
       "(150, 5)"
      ]
     },
     "execution_count": 76,
     "metadata": {},
     "output_type": "execute_result"
    }
   ],
   "source": [
    "# Data Size\n",
    "Main.size(Main.jdf)"
   ]
  },
  {
   "cell_type": "code",
   "execution_count": 77,
   "metadata": {},
   "outputs": [
    {
     "data": {
      "text/plain": [
       "['sepal_length', 'sepal_width', 'petal_length', 'petal_width', 'species']"
      ]
     },
     "execution_count": 77,
     "metadata": {},
     "output_type": "execute_result"
    }
   ],
   "source": [
    "# Columns\n",
    "Main.names(Main.jdf) "
   ]
  },
  {
   "cell_type": "code",
   "execution_count": 78,
   "metadata": {},
   "outputs": [
    {
     "data": {
      "text/plain": [
       "<PyCall.jlwrap 2×5 DataFrame\n",
       " Row │ sepal_length  sepal_width  petal_length  petal_width  species\n",
       "     │ Float64       Float64      Float64       Float64      String15\n",
       "─────┼────────────────────────────────────────────────────────────────\n",
       "   1 │          5.1          3.5           1.4          0.2  setosa\n",
       "   2 │          4.9          3.0           1.4          0.2  setosa>"
      ]
     },
     "execution_count": 78,
     "metadata": {},
     "output_type": "execute_result"
    }
   ],
   "source": [
    "# First 10 rows\n",
    "Main.first(Main.jdf, 2)"
   ]
  },
  {
   "cell_type": "code",
   "execution_count": 121,
   "metadata": {},
   "outputs": [],
   "source": [
    "# to get statistics of a dataset\n",
    "# Main.eval('describe(jdf)')"
   ]
  },
  {
   "cell_type": "code",
   "execution_count": 88,
   "metadata": {},
   "outputs": [
    {
     "data": {
      "text/plain": [
       "<PyCall.jlwrap 150×1 DataFrame\n",
       " Row │ sepal_length\n",
       "     │ Float64\n",
       "─────┼──────────────\n",
       "   1 │          5.1\n",
       "   2 │          4.9\n",
       "   3 │          4.7\n",
       "   4 │          4.6\n",
       "   5 │          5.0\n",
       "   6 │          5.4\n",
       "   7 │          4.6\n",
       "   8 │          5.0\n",
       "   9 │          4.4\n",
       "  10 │          4.9\n",
       "  11 │          5.4\n",
       "  12 │          4.8\n",
       "  13 │          4.8\n",
       "  14 │          4.3\n",
       "  15 │          5.8\n",
       "  16 │          5.7\n",
       "  17 │          5.4\n",
       "  18 │          5.1\n",
       "  19 │          5.7\n",
       "  20 │          5.1\n",
       "  21 │          5.4\n",
       "  22 │          5.1\n",
       "  23 │          4.6\n",
       "  24 │          5.1\n",
       "  25 │          4.8\n",
       "  26 │          5.0\n",
       "  27 │          5.0\n",
       "  28 │          5.2\n",
       "  29 │          5.2\n",
       "  30 │          4.7\n",
       "  31 │          4.8\n",
       "  32 │          5.4\n",
       "  33 │          5.2\n",
       "  34 │          5.5\n",
       "  35 │          4.9\n",
       "  36 │          5.0\n",
       "  37 │          5.5\n",
       "  38 │          4.9\n",
       "  39 │          4.4\n",
       "  40 │          5.1\n",
       "  41 │          5.0\n",
       "  42 │          4.5\n",
       "  43 │          4.4\n",
       "  44 │          5.0\n",
       "  45 │          5.1\n",
       "  46 │          4.8\n",
       "  47 │          5.1\n",
       "  48 │          4.6\n",
       "  49 │          5.3\n",
       "  50 │          5.0\n",
       "  51 │          7.0\n",
       "  52 │          6.4\n",
       "  53 │          6.9\n",
       "  54 │          5.5\n",
       "  55 │          6.5\n",
       "  56 │          5.7\n",
       "  57 │          6.3\n",
       "  58 │          4.9\n",
       "  59 │          6.6\n",
       "  60 │          5.2\n",
       "  61 │          5.0\n",
       "  62 │          5.9\n",
       "  63 │          6.0\n",
       "  64 │          6.1\n",
       "  65 │          5.6\n",
       "  66 │          6.7\n",
       "  67 │          5.6\n",
       "  68 │          5.8\n",
       "  69 │          6.2\n",
       "  70 │          5.6\n",
       "  71 │          5.9\n",
       "  72 │          6.1\n",
       "  73 │          6.3\n",
       "  74 │          6.1\n",
       "  75 │          6.4\n",
       "  76 │          6.6\n",
       "  77 │          6.8\n",
       "  78 │          6.7\n",
       "  79 │          6.0\n",
       "  80 │          5.7\n",
       "  81 │          5.5\n",
       "  82 │          5.5\n",
       "  83 │          5.8\n",
       "  84 │          6.0\n",
       "  85 │          5.4\n",
       "  86 │          6.0\n",
       "  87 │          6.7\n",
       "  88 │          6.3\n",
       "  89 │          5.6\n",
       "  90 │          5.5\n",
       "  91 │          5.5\n",
       "  92 │          6.1\n",
       "  93 │          5.8\n",
       "  94 │          5.0\n",
       "  95 │          5.6\n",
       "  96 │          5.7\n",
       "  97 │          5.7\n",
       "  98 │          6.2\n",
       "  99 │          5.1\n",
       " 100 │          5.7\n",
       " 101 │          6.3\n",
       " 102 │          5.8\n",
       " 103 │          7.1\n",
       " 104 │          6.3\n",
       " 105 │          6.5\n",
       " 106 │          7.6\n",
       " 107 │          4.9\n",
       " 108 │          7.3\n",
       " 109 │          6.7\n",
       " 110 │          7.2\n",
       " 111 │          6.5\n",
       " 112 │          6.4\n",
       " 113 │          6.8\n",
       " 114 │          5.7\n",
       " 115 │          5.8\n",
       " 116 │          6.4\n",
       " 117 │          6.5\n",
       " 118 │          7.7\n",
       " 119 │          7.7\n",
       " 120 │          6.0\n",
       " 121 │          6.9\n",
       " 122 │          5.6\n",
       " 123 │          7.7\n",
       " 124 │          6.3\n",
       " 125 │          6.7\n",
       " 126 │          7.2\n",
       " 127 │          6.2\n",
       " 128 │          6.1\n",
       " 129 │          6.4\n",
       " 130 │          7.2\n",
       " 131 │          7.4\n",
       " 132 │          7.9\n",
       " 133 │          6.4\n",
       " 134 │          6.3\n",
       " 135 │          6.1\n",
       " 136 │          7.7\n",
       " 137 │          6.3\n",
       " 138 │          6.4\n",
       " 139 │          6.0\n",
       " 140 │          6.9\n",
       " 141 │          6.7\n",
       " 142 │          6.9\n",
       " 143 │          5.8\n",
       " 144 │          6.8\n",
       " 145 │          6.7\n",
       " 146 │          6.7\n",
       " 147 │          6.3\n",
       " 148 │          6.5\n",
       " 149 │          6.2\n",
       " 150 │          5.9>"
      ]
     },
     "execution_count": 88,
     "metadata": {},
     "output_type": "execute_result"
    }
   ],
   "source": [
    "Main.eval('jdf[:, r\"sepal_length\"]')"
   ]
  },
  {
   "cell_type": "code",
   "execution_count": 89,
   "metadata": {},
   "outputs": [
    {
     "data": {
      "text/plain": [
       "<PyCall.jlwrap DataFrameRow\n",
       " Row │ sepal_length\n",
       "     │ Float64\n",
       "─────┼──────────────\n",
       "   3 │          4.7>"
      ]
     },
     "execution_count": 89,
     "metadata": {},
     "output_type": "execute_result"
    }
   ],
   "source": [
    "%julia Main.jdf[:3, [:sepal_length]]"
   ]
  },
  {
   "cell_type": "code",
   "execution_count": 159,
   "metadata": {},
   "outputs": [
    {
     "data": {
      "text/plain": [
       "[<matplotlib.lines.Line2D at 0x7facafbc15b0>]"
      ]
     },
     "execution_count": 159,
     "metadata": {},
     "output_type": "execute_result"
    },
    {
     "data": {
      "image/png": "[encoded data removed]",
      "text/plain": [
       "<Figure size 432x288 with 1 Axes>"
      ]
     },
     "metadata": {
      "needs_background": "light"
     },
     "output_type": "display_data"
    }
   ],
   "source": [
    "%matplotlib inline\n",
    "\n",
    "# Main.eval('Plots.plot(jdf, x=:species, y=:sepal_length, kind=\"bar\")')\n",
    "plot([1,2,3])"
   ]
  },
  {
   "cell_type": "code",
   "execution_count": 114,
   "metadata": {},
   "outputs": [
    {
     "data": {
      "text/html": [
       "<div>\n",
       "<style scoped>\n",
       "    .dataframe tbody tr th:only-of-type {\n",
       "        vertical-align: middle;\n",
       "    }\n",
       "\n",
       "    .dataframe tbody tr th {\n",
       "        vertical-align: top;\n",
       "    }\n",
       "\n",
       "    .dataframe thead th {\n",
       "        text-align: right;\n",
       "    }\n",
       "</style>\n",
       "<table border=\"1\" class=\"dataframe\">\n",
       "  <thead>\n",
       "    <tr style=\"text-align: right;\">\n",
       "      <th></th>\n",
       "      <th>0</th>\n",
       "    </tr>\n",
       "  </thead>\n",
       "  <tbody>\n",
       "    <tr>\n",
       "      <th>0</th>\n",
       "      <td>4.7</td>\n",
       "    </tr>\n",
       "  </tbody>\n",
       "</table>\n",
       "</div>"
      ],
      "text/plain": [
       "     0\n",
       "0  4.7"
      ]
     },
     "execution_count": 114,
     "metadata": {},
     "output_type": "execute_result"
    }
   ],
   "source": [
    "df = pd.DataFrame(Main.eval('jdf[:3, [:sepal_length]]'))\n",
    "df"
   ]
  },
  {
   "cell_type": "code",
   "execution_count": null,
   "metadata": {},
   "outputs": [],
   "source": [
    "# Main.eval(\"\"\"\n",
    "# dfj = df |> Pandas.DataFrame|> DataFrames.DataFrame;\n",
    "# \"\"\")"
   ]
  },
  {
   "cell_type": "code",
   "execution_count": 122,
   "metadata": {},
   "outputs": [
    {
     "data": {
      "text/plain": [
       "<PyCall.jlwrap 2×5 DataFrame\n",
       " Row │ sepal_length  sepal_width  petal_length  petal_width  species\n",
       "     │ Float64       Float64      Float64       Float64      String15\n",
       "─────┼────────────────────────────────────────────────────────────────\n",
       "   1 │          5.1          3.5           1.4          0.2  setosa\n",
       "   2 │          4.9          3.0           1.4          0.2  setosa>"
      ]
     },
     "execution_count": 122,
     "metadata": {},
     "output_type": "execute_result"
    }
   ],
   "source": [
    "Main.eval(\"\"\" \n",
    "first(jdf, 2)\n",
    "\"\"\")"
   ]
  },
  {
   "cell_type": "code",
   "execution_count": 123,
   "metadata": {},
   "outputs": [
    {
     "data": {
      "text/html": [
       "<div>\n",
       "<style scoped>\n",
       "    .dataframe tbody tr th:only-of-type {\n",
       "        vertical-align: middle;\n",
       "    }\n",
       "\n",
       "    .dataframe tbody tr th {\n",
       "        vertical-align: top;\n",
       "    }\n",
       "\n",
       "    .dataframe thead th {\n",
       "        text-align: right;\n",
       "    }\n",
       "</style>\n",
       "<table border=\"1\" class=\"dataframe\">\n",
       "  <thead>\n",
       "    <tr style=\"text-align: right;\">\n",
       "      <th></th>\n",
       "      <th>sepal_length</th>\n",
       "      <th>sepal_width</th>\n",
       "      <th>petal_length</th>\n",
       "      <th>petal_width</th>\n",
       "      <th>species</th>\n",
       "    </tr>\n",
       "  </thead>\n",
       "  <tbody>\n",
       "    <tr>\n",
       "      <th>0</th>\n",
       "      <td>5.1</td>\n",
       "      <td>3.5</td>\n",
       "      <td>1.4</td>\n",
       "      <td>0.2</td>\n",
       "      <td>setosa</td>\n",
       "    </tr>\n",
       "    <tr>\n",
       "      <th>1</th>\n",
       "      <td>4.9</td>\n",
       "      <td>3.0</td>\n",
       "      <td>1.4</td>\n",
       "      <td>0.2</td>\n",
       "      <td>setosa</td>\n",
       "    </tr>\n",
       "  </tbody>\n",
       "</table>\n",
       "</div>"
      ],
      "text/plain": [
       "   sepal_length  sepal_width  petal_length  petal_width species\n",
       "0           5.1          3.5           1.4          0.2  setosa\n",
       "1           4.9          3.0           1.4          0.2  setosa"
      ]
     },
     "execution_count": 123,
     "metadata": {},
     "output_type": "execute_result"
    }
   ],
   "source": [
    "Main.eval(\"\"\" \n",
    "pdf = first(jdf, 2) |> Pandas.DataFrame\n",
    "\"\"\")"
   ]
  },
  {
   "cell_type": "code",
   "execution_count": 125,
   "metadata": {},
   "outputs": [
    {
     "data": {
      "text/html": [
       "<div>\n",
       "<style scoped>\n",
       "    .dataframe tbody tr th:only-of-type {\n",
       "        vertical-align: middle;\n",
       "    }\n",
       "\n",
       "    .dataframe tbody tr th {\n",
       "        vertical-align: top;\n",
       "    }\n",
       "\n",
       "    .dataframe thead th {\n",
       "        text-align: right;\n",
       "    }\n",
       "</style>\n",
       "<table border=\"1\" class=\"dataframe\">\n",
       "  <thead>\n",
       "    <tr style=\"text-align: right;\">\n",
       "      <th></th>\n",
       "      <th>sepal_length</th>\n",
       "      <th>sepal_width</th>\n",
       "      <th>petal_length</th>\n",
       "      <th>petal_width</th>\n",
       "      <th>species</th>\n",
       "    </tr>\n",
       "  </thead>\n",
       "  <tbody>\n",
       "    <tr>\n",
       "      <th>0</th>\n",
       "      <td>5.1</td>\n",
       "      <td>3.5</td>\n",
       "      <td>1.4</td>\n",
       "      <td>0.2</td>\n",
       "      <td>setosa</td>\n",
       "    </tr>\n",
       "    <tr>\n",
       "      <th>1</th>\n",
       "      <td>4.9</td>\n",
       "      <td>3.0</td>\n",
       "      <td>1.4</td>\n",
       "      <td>0.2</td>\n",
       "      <td>setosa</td>\n",
       "    </tr>\n",
       "  </tbody>\n",
       "</table>\n",
       "</div>"
      ],
      "text/plain": [
       "   sepal_length  sepal_width  petal_length  petal_width species\n",
       "0           5.1          3.5           1.4          0.2  setosa\n",
       "1           4.9          3.0           1.4          0.2  setosa"
      ]
     },
     "execution_count": 125,
     "metadata": {},
     "output_type": "execute_result"
    }
   ],
   "source": [
    "Main.pdf"
   ]
  },
  {
   "cell_type": "code",
   "execution_count": 126,
   "metadata": {},
   "outputs": [
    {
     "data": {
      "text/plain": [
       "pandas.core.frame.DataFrame"
      ]
     },
     "execution_count": 126,
     "metadata": {},
     "output_type": "execute_result"
    }
   ],
   "source": [
    "type(Main.pdf)"
   ]
  },
  {
   "cell_type": "code",
   "execution_count": 127,
   "metadata": {},
   "outputs": [
    {
     "data": {
      "text/html": [
       "<div>\n",
       "<style scoped>\n",
       "    .dataframe tbody tr th:only-of-type {\n",
       "        vertical-align: middle;\n",
       "    }\n",
       "\n",
       "    .dataframe tbody tr th {\n",
       "        vertical-align: top;\n",
       "    }\n",
       "\n",
       "    .dataframe thead th {\n",
       "        text-align: right;\n",
       "    }\n",
       "</style>\n",
       "<table border=\"1\" class=\"dataframe\">\n",
       "  <thead>\n",
       "    <tr style=\"text-align: right;\">\n",
       "      <th></th>\n",
       "      <th>sepal_length</th>\n",
       "      <th>sepal_width</th>\n",
       "      <th>petal_length</th>\n",
       "      <th>petal_width</th>\n",
       "      <th>species</th>\n",
       "    </tr>\n",
       "  </thead>\n",
       "  <tbody>\n",
       "    <tr>\n",
       "      <th>0</th>\n",
       "      <td>5.1</td>\n",
       "      <td>3.5</td>\n",
       "      <td>1.4</td>\n",
       "      <td>0.2</td>\n",
       "      <td>setosa</td>\n",
       "    </tr>\n",
       "    <tr>\n",
       "      <th>1</th>\n",
       "      <td>4.9</td>\n",
       "      <td>3.0</td>\n",
       "      <td>1.4</td>\n",
       "      <td>0.2</td>\n",
       "      <td>setosa</td>\n",
       "    </tr>\n",
       "  </tbody>\n",
       "</table>\n",
       "</div>"
      ],
      "text/plain": [
       "   sepal_length  sepal_width  petal_length  petal_width species\n",
       "0           5.1          3.5           1.4          0.2  setosa\n",
       "1           4.9          3.0           1.4          0.2  setosa"
      ]
     },
     "execution_count": 127,
     "metadata": {},
     "output_type": "execute_result"
    }
   ],
   "source": [
    "df2 = pd.DataFrame(Main.pdf)\n",
    "df2"
   ]
  },
  {
   "cell_type": "code",
   "execution_count": 128,
   "metadata": {},
   "outputs": [
    {
     "data": {
      "text/plain": [
       "pandas.core.frame.DataFrame"
      ]
     },
     "execution_count": 128,
     "metadata": {},
     "output_type": "execute_result"
    }
   ],
   "source": [
    "type(df2)"
   ]
  },
  {
   "cell_type": "code",
   "execution_count": 138,
   "metadata": {},
   "outputs": [],
   "source": [
    "# Main.eval(\"\"\"\n",
    "# plot(jdf, x=:species, y=:sepal_length, kind=\"bar\")\n",
    "# \"\"\")"
   ]
  },
  {
   "cell_type": "code",
   "execution_count": 148,
   "metadata": {},
   "outputs": [
    {
     "name": "stdout",
     "output_type": "stream",
     "text": [
      "f = Plot{Plots.GRBackend() n=1}"
     ]
    },
    {
     "data": {
      "text/plain": [
       "<PyCall.jlwrap Plot{Plots.GRBackend() n=1}>"
      ]
     },
     "execution_count": 148,
     "metadata": {},
     "output_type": "execute_result"
    }
   ],
   "source": [
    "%matplotlib inline \n",
    "\n",
    "jl.include(\"Plots.jl\")"
   ]
  },
  {
   "cell_type": "code",
   "execution_count": 154,
   "metadata": {},
   "outputs": [
    {
     "data": {
      "text/plain": [
       "<PyCall.jlwrap Plot{Plots.GRBackend() n=2}>"
      ]
     },
     "execution_count": 154,
     "metadata": {},
     "output_type": "execute_result"
    }
   ],
   "source": [
    "%matplotlib inline \n",
    "\n",
    "Main.eval(\"\"\"\n",
    "data2 = rand(10, 2); # 10x2 random mat\n",
    "Plots.plot(data2)\n",
    "\"\"\")"
   ]
  },
  {
   "cell_type": "code",
   "execution_count": 155,
   "metadata": {},
   "outputs": [
    {
     "data": {
      "text/plain": [
       "<PyCall.jlwrap Plot{Plots.GRBackend() n=3}>"
      ]
     },
     "execution_count": 155,
     "metadata": {},
     "output_type": "execute_result"
    }
   ],
   "source": [
    "Main.eval(\"\"\"\n",
    "plot!(rand(10))\n",
    "\"\"\")"
   ]
  },
  {
   "cell_type": "code",
   "execution_count": 163,
   "metadata": {},
   "outputs": [
    {
     "data": {
      "text/plain": [
       "[<matplotlib.lines.Line2D at 0x7facaff2d730>]"
      ]
     },
     "execution_count": 163,
     "metadata": {},
     "output_type": "execute_result"
    },
    {
     "data": {
      "image/png": "[encoded data removed]",
      "text/plain": [
       "<Figure size 432x288 with 1 Axes>"
      ]
     },
     "metadata": {
      "needs_background": "light"
     },
     "output_type": "display_data"
    }
   ],
   "source": [
    "%matplotlib inline \n",
    "\n",
    "plot(Main.eval(\"(rand(10))\"))"
   ]
  },
  {
   "cell_type": "code",
   "execution_count": 172,
   "metadata": {},
   "outputs": [],
   "source": [
    "%matplotlib inline\n",
    "\n",
    "# plot(Main.eval(\"\"\"(jdf, x=:species, y=:sepal_length, kind=\"bar\")\"\"\"))\n",
    "\n",
    "# plot(Main.eval(\"\"\"(jdf, markershape = :ltriangle, linestyle = :dashdot, color = [:black :orange])\"\"\"))"
   ]
  }
 ],
 "metadata": {
  "kernelspec": {
   "display_name": "Python 3.8.8 ('Python_Julia_Env')",
   "language": "python",
   "name": "python3"
  },
  "language_info": {
   "codemirror_mode": {
    "name": "ipython",
    "version": 3
   },
   "file_extension": ".py",
   "mimetype": "text/x-python",
   "name": "python",
   "nbconvert_exporter": "python",
   "pygments_lexer": "ipython3",
   "version": "3.8.8"
  },
  "orig_nbformat": 4,
  "vscode": {
   "interpreter": {
    "hash": "ae5692b1f97dd46fcbbb8e0a0b3f9fe8151675a3c0f84385675bf92f2f60d14a"
   }
  }
 },
 "nbformat": 4,
 "nbformat_minor": 2
}
