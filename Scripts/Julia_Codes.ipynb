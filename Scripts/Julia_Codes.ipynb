{
 "cells": [
  {
   "cell_type": "markdown",
   "metadata": {},
   "source": [
    "> `Execution Editor :  Jupyter Notebook`\n",
    "\n",
    "> `Conda Environment : Python_Julia_Env`\n",
    "\n",
    "> `Kernel : Julia 1.7.3`"
   ]
  },
  {
   "cell_type": "markdown",
   "metadata": {},
   "source": [
    "### `Installing Packages`"
   ]
  },
  {
   "cell_type": "code",
   "execution_count": 1,
   "metadata": {},
   "outputs": [
    {
     "name": "stderr",
     "output_type": "stream",
     "text": [
      "\u001b[32m\u001b[1m    Updating\u001b[22m\u001b[39m registry at `~/.julia/registries/General.toml`\n",
      "\u001b[32m\u001b[1m   Resolving\u001b[22m\u001b[39m package versions...\n",
      "\u001b[32m\u001b[1m  No Changes\u001b[22m\u001b[39m to `~/.julia/environments/v1.7/Project.toml`\n",
      "\u001b[32m\u001b[1m  No Changes\u001b[22m\u001b[39m to `~/.julia/environments/v1.7/Manifest.toml`\n",
      "\u001b[32m\u001b[1m   Resolving\u001b[22m\u001b[39m package versions...\n",
      "\u001b[32m\u001b[1m  No Changes\u001b[22m\u001b[39m to `~/.julia/environments/v1.7/Project.toml`\n",
      "\u001b[32m\u001b[1m  No Changes\u001b[22m\u001b[39m to `~/.julia/environments/v1.7/Manifest.toml`\n",
      "\u001b[32m\u001b[1m   Resolving\u001b[22m\u001b[39m package versions...\n",
      "\u001b[32m\u001b[1m  No Changes\u001b[22m\u001b[39m to `~/.julia/environments/v1.7/Project.toml`\n",
      "\u001b[32m\u001b[1m  No Changes\u001b[22m\u001b[39m to `~/.julia/environments/v1.7/Manifest.toml`\n",
      "\u001b[32m\u001b[1m   Resolving\u001b[22m\u001b[39m package versions...\n",
      "\u001b[32m\u001b[1m  No Changes\u001b[22m\u001b[39m to `~/.julia/environments/v1.7/Project.toml`\n",
      "\u001b[32m\u001b[1m  No Changes\u001b[22m\u001b[39m to `~/.julia/environments/v1.7/Manifest.toml`\n",
      "\u001b[32m\u001b[1m   Resolving\u001b[22m\u001b[39m package versions...\n",
      "\u001b[32m\u001b[1m   Installed\u001b[22m\u001b[39m HypertextLiteral ───── v0.9.4\n",
      "\u001b[32m\u001b[1m   Installed\u001b[22m\u001b[39m FuzzyCompletions ───── v0.5.0\n",
      "\u001b[32m\u001b[1m   Installed\u001b[22m\u001b[39m PrecompileSignatures ─ v3.0.3\n",
      "\u001b[32m\u001b[1m   Installed\u001b[22m\u001b[39m Configurations ─────── v0.17.3\n",
      "\u001b[32m\u001b[1m   Installed\u001b[22m\u001b[39m HTTP ───────────────── v0.9.17\n",
      "\u001b[32m\u001b[1m   Installed\u001b[22m\u001b[39m Tricks ─────────────── v0.1.6\n",
      "\u001b[32m\u001b[1m   Installed\u001b[22m\u001b[39m ExproniconLite ─────── v0.6.13\n",
      "\u001b[32m\u001b[1m   Installed\u001b[22m\u001b[39m MIMEs ──────────────── v0.1.4\n",
      "\u001b[32m\u001b[1m   Installed\u001b[22m\u001b[39m Pluto ──────────────── v0.19.9\n",
      "\u001b[32m\u001b[1m    Updating\u001b[22m\u001b[39m `~/.julia/environments/v1.7/Project.toml`\n",
      " \u001b[90m [c3e4b0f8] \u001b[39m\u001b[92m+ Pluto v0.19.9\u001b[39m\n",
      "\u001b[32m\u001b[1m    Updating\u001b[22m\u001b[39m `~/.julia/environments/v1.7/Manifest.toml`\n",
      " \u001b[90m [5218b696] \u001b[39m\u001b[92m+ Configurations v0.17.3\u001b[39m\n",
      " \u001b[90m [55351af7] \u001b[39m\u001b[92m+ ExproniconLite v0.6.13\u001b[39m\n",
      " \u001b[90m [fb4132e2] \u001b[39m\u001b[92m+ FuzzyCompletions v0.5.0\u001b[39m\n",
      " \u001b[90m [cd3eb016] \u001b[39m\u001b[95m↓ HTTP v1.0.5 ⇒ v0.9.17\u001b[39m\n",
      " \u001b[90m [ac1192a8] \u001b[39m\u001b[92m+ HypertextLiteral v0.9.4\u001b[39m\n",
      " \u001b[90m [e6f89c97] \u001b[39m\u001b[91m- LoggingExtras v0.4.9\u001b[39m\n",
      " \u001b[90m [6c6e2e6c] \u001b[39m\u001b[92m+ MIMEs v0.1.4\u001b[39m\n",
      " \u001b[90m [99f44e22] \u001b[39m\u001b[92m+ MsgPack v1.1.0\u001b[39m\n",
      " \u001b[90m [c3e4b0f8] \u001b[39m\u001b[92m+ Pluto v0.19.9\u001b[39m\n",
      " \u001b[90m [91cefc8d] \u001b[39m\u001b[92m+ PrecompileSignatures v3.0.3\u001b[39m\n",
      " \u001b[90m [777ac1f9] \u001b[39m\u001b[91m- SimpleBufferStream v1.1.0\u001b[39m\n",
      " \u001b[90m [410a4b4d] \u001b[39m\u001b[92m+ Tricks v0.1.6\u001b[39m\n",
      "\u001b[32m\u001b[1mPrecompiling\u001b[22m\u001b[39m project...\n",
      "\u001b[32m  ✓ \u001b[39m\u001b[90mTricks\u001b[39m\n",
      "\u001b[32m  ✓ \u001b[39m\u001b[90mFuzzyCompletions\u001b[39m\n",
      "\u001b[32m  ✓ \u001b[39m\u001b[90mExproniconLite\u001b[39m\n",
      "\u001b[32m  ✓ \u001b[39m\u001b[90mMsgPack\u001b[39m\n",
      "\u001b[32m  ✓ \u001b[39m\u001b[90mPrecompileSignatures\u001b[39m\n",
      "\u001b[32m  ✓ \u001b[39m\u001b[90mMIMEs\u001b[39m\n",
      "\u001b[32m  ✓ \u001b[39m\u001b[90mHypertextLiteral\u001b[39m\n",
      "\u001b[32m  ✓ \u001b[39m\u001b[90mHTTP\u001b[39m\n",
      "\u001b[32m  ✓ \u001b[39m\u001b[90mConfigurations\u001b[39m\n",
      "\u001b[32m  ✓ \u001b[39m\u001b[90mGR\u001b[39m\n",
      "\u001b[32m  ✓ \u001b[39mPluto\n",
      "\u001b[32m  ✓ \u001b[39mPlots\n",
      "\u001b[32m  ✓ \u001b[39mStatsPlots\n",
      "  13 dependencies successfully precompiled in 90 seconds (197 already precompiled)\n",
      "\u001b[32m\u001b[1m   Resolving\u001b[22m\u001b[39m package versions...\n",
      "\u001b[32m\u001b[1m  No Changes\u001b[22m\u001b[39m to `~/.julia/environments/v1.7/Project.toml`\n",
      "\u001b[32m\u001b[1m  No Changes\u001b[22m\u001b[39m to `~/.julia/environments/v1.7/Manifest.toml`\n",
      "\u001b[32m\u001b[1m   Resolving\u001b[22m\u001b[39m package versions...\n",
      "\u001b[32m\u001b[1m  No Changes\u001b[22m\u001b[39m to `~/.julia/environments/v1.7/Project.toml`\n",
      "\u001b[32m\u001b[1m  No Changes\u001b[22m\u001b[39m to `~/.julia/environments/v1.7/Manifest.toml`\n"
     ]
    }
   ],
   "source": [
    "using Pkg\n",
    "\n",
    "for pkg in [\"CSV\", \"StatsBase\", \"DataFrames\", \"Plots\", \"Pluto\", \"StatsPlots\", \"Gadfly\"]\n",
    "    Pkg.add(pkg)\n",
    "end"
   ]
  },
  {
   "cell_type": "markdown",
   "metadata": {},
   "source": [
    "### `Importing Packages`"
   ]
  },
  {
   "cell_type": "code",
   "execution_count": 2,
   "metadata": {},
   "outputs": [],
   "source": [
    "using CSV\n",
    "using DataFrames\n",
    "using StatsBase\n",
    "using StatsPlots\n",
    "using Gadfly\n",
    "using Plots "
   ]
  },
  {
   "cell_type": "markdown",
   "metadata": {},
   "source": [
    "### `Current Working Directory`"
   ]
  },
  {
   "cell_type": "code",
   "execution_count": 3,
   "metadata": {},
   "outputs": [
    {
     "name": "stdout",
     "output_type": "stream",
     "text": [
      "/Users/rock\n",
      "/Users/rock/Git_Repo/Julia_Codes/Scripts\n"
     ]
    }
   ],
   "source": [
    "println(homedir())\n",
    "println(pwd())"
   ]
  },
  {
   "cell_type": "markdown",
   "metadata": {},
   "source": [
    "###  `List of files in current working directory`"
   ]
  },
  {
   "cell_type": "code",
   "execution_count": 4,
   "metadata": {},
   "outputs": [
    {
     "data": {
      "text/plain": [
       "5-element Vector{String}:\n",
       " \".ipynb_checkpoints\"\n",
       " \"Julia_Codes.ipynb\"\n",
       " \"Packages_Installation.jl\"\n",
       " \"Plots.jl\"\n",
       " \"Pyjulia_Codes.ipynb\""
      ]
     },
     "execution_count": 4,
     "metadata": {},
     "output_type": "execute_result"
    }
   ],
   "source": [
    "# cd(\"$(homedir())/Git_Repo/Julia_Codes\")\n",
    "readdir()"
   ]
  },
  {
   "cell_type": "markdown",
   "metadata": {},
   "source": [
    "### `Importing Data`"
   ]
  },
  {
   "cell_type": "code",
   "execution_count": 5,
   "metadata": {},
   "outputs": [
    {
     "data": {
      "text/html": [
       "<div class=\"data-frame\"><p>150 rows × 5 columns</p><table class=\"data-frame\"><thead><tr><th></th><th>sepal_length</th><th>sepal_width</th><th>petal_length</th><th>petal_width</th><th>species</th></tr><tr><th></th><th title=\"Float64\">Float64</th><th title=\"Float64\">Float64</th><th title=\"Float64\">Float64</th><th title=\"Float64\">Float64</th><th title=\"String15\">String15</th></tr></thead><tbody><tr><th>1</th><td>5.1</td><td>3.5</td><td>1.4</td><td>0.2</td><td>setosa</td></tr><tr><th>2</th><td>4.9</td><td>3.0</td><td>1.4</td><td>0.2</td><td>setosa</td></tr><tr><th>3</th><td>4.7</td><td>3.2</td><td>1.3</td><td>0.2</td><td>setosa</td></tr><tr><th>4</th><td>4.6</td><td>3.1</td><td>1.5</td><td>0.2</td><td>setosa</td></tr><tr><th>5</th><td>5.0</td><td>3.6</td><td>1.4</td><td>0.2</td><td>setosa</td></tr><tr><th>6</th><td>5.4</td><td>3.9</td><td>1.7</td><td>0.4</td><td>setosa</td></tr><tr><th>7</th><td>4.6</td><td>3.4</td><td>1.4</td><td>0.3</td><td>setosa</td></tr><tr><th>8</th><td>5.0</td><td>3.4</td><td>1.5</td><td>0.2</td><td>setosa</td></tr><tr><th>9</th><td>4.4</td><td>2.9</td><td>1.4</td><td>0.2</td><td>setosa</td></tr><tr><th>10</th><td>4.9</td><td>3.1</td><td>1.5</td><td>0.1</td><td>setosa</td></tr><tr><th>11</th><td>5.4</td><td>3.7</td><td>1.5</td><td>0.2</td><td>setosa</td></tr><tr><th>12</th><td>4.8</td><td>3.4</td><td>1.6</td><td>0.2</td><td>setosa</td></tr><tr><th>13</th><td>4.8</td><td>3.0</td><td>1.4</td><td>0.1</td><td>setosa</td></tr><tr><th>14</th><td>4.3</td><td>3.0</td><td>1.1</td><td>0.1</td><td>setosa</td></tr><tr><th>15</th><td>5.8</td><td>4.0</td><td>1.2</td><td>0.2</td><td>setosa</td></tr><tr><th>16</th><td>5.7</td><td>4.4</td><td>1.5</td><td>0.4</td><td>setosa</td></tr><tr><th>17</th><td>5.4</td><td>3.9</td><td>1.3</td><td>0.4</td><td>setosa</td></tr><tr><th>18</th><td>5.1</td><td>3.5</td><td>1.4</td><td>0.3</td><td>setosa</td></tr><tr><th>19</th><td>5.7</td><td>3.8</td><td>1.7</td><td>0.3</td><td>setosa</td></tr><tr><th>20</th><td>5.1</td><td>3.8</td><td>1.5</td><td>0.3</td><td>setosa</td></tr><tr><th>21</th><td>5.4</td><td>3.4</td><td>1.7</td><td>0.2</td><td>setosa</td></tr><tr><th>22</th><td>5.1</td><td>3.7</td><td>1.5</td><td>0.4</td><td>setosa</td></tr><tr><th>23</th><td>4.6</td><td>3.6</td><td>1.0</td><td>0.2</td><td>setosa</td></tr><tr><th>24</th><td>5.1</td><td>3.3</td><td>1.7</td><td>0.5</td><td>setosa</td></tr><tr><th>25</th><td>4.8</td><td>3.4</td><td>1.9</td><td>0.2</td><td>setosa</td></tr><tr><th>26</th><td>5.0</td><td>3.0</td><td>1.6</td><td>0.2</td><td>setosa</td></tr><tr><th>27</th><td>5.0</td><td>3.4</td><td>1.6</td><td>0.4</td><td>setosa</td></tr><tr><th>28</th><td>5.2</td><td>3.5</td><td>1.5</td><td>0.2</td><td>setosa</td></tr><tr><th>29</th><td>5.2</td><td>3.4</td><td>1.4</td><td>0.2</td><td>setosa</td></tr><tr><th>30</th><td>4.7</td><td>3.2</td><td>1.6</td><td>0.2</td><td>setosa</td></tr><tr><th>&vellip;</th><td>&vellip;</td><td>&vellip;</td><td>&vellip;</td><td>&vellip;</td><td>&vellip;</td></tr></tbody></table></div>"
      ],
      "text/latex": [
       "\\begin{tabular}{r|ccccc}\n",
       "\t& sepal\\_length & sepal\\_width & petal\\_length & petal\\_width & species\\\\\n",
       "\t\\hline\n",
       "\t& Float64 & Float64 & Float64 & Float64 & String15\\\\\n",
       "\t\\hline\n",
       "\t1 & 5.1 & 3.5 & 1.4 & 0.2 & setosa \\\\\n",
       "\t2 & 4.9 & 3.0 & 1.4 & 0.2 & setosa \\\\\n",
       "\t3 & 4.7 & 3.2 & 1.3 & 0.2 & setosa \\\\\n",
       "\t4 & 4.6 & 3.1 & 1.5 & 0.2 & setosa \\\\\n",
       "\t5 & 5.0 & 3.6 & 1.4 & 0.2 & setosa \\\\\n",
       "\t6 & 5.4 & 3.9 & 1.7 & 0.4 & setosa \\\\\n",
       "\t7 & 4.6 & 3.4 & 1.4 & 0.3 & setosa \\\\\n",
       "\t8 & 5.0 & 3.4 & 1.5 & 0.2 & setosa \\\\\n",
       "\t9 & 4.4 & 2.9 & 1.4 & 0.2 & setosa \\\\\n",
       "\t10 & 4.9 & 3.1 & 1.5 & 0.1 & setosa \\\\\n",
       "\t11 & 5.4 & 3.7 & 1.5 & 0.2 & setosa \\\\\n",
       "\t12 & 4.8 & 3.4 & 1.6 & 0.2 & setosa \\\\\n",
       "\t13 & 4.8 & 3.0 & 1.4 & 0.1 & setosa \\\\\n",
       "\t14 & 4.3 & 3.0 & 1.1 & 0.1 & setosa \\\\\n",
       "\t15 & 5.8 & 4.0 & 1.2 & 0.2 & setosa \\\\\n",
       "\t16 & 5.7 & 4.4 & 1.5 & 0.4 & setosa \\\\\n",
       "\t17 & 5.4 & 3.9 & 1.3 & 0.4 & setosa \\\\\n",
       "\t18 & 5.1 & 3.5 & 1.4 & 0.3 & setosa \\\\\n",
       "\t19 & 5.7 & 3.8 & 1.7 & 0.3 & setosa \\\\\n",
       "\t20 & 5.1 & 3.8 & 1.5 & 0.3 & setosa \\\\\n",
       "\t21 & 5.4 & 3.4 & 1.7 & 0.2 & setosa \\\\\n",
       "\t22 & 5.1 & 3.7 & 1.5 & 0.4 & setosa \\\\\n",
       "\t23 & 4.6 & 3.6 & 1.0 & 0.2 & setosa \\\\\n",
       "\t24 & 5.1 & 3.3 & 1.7 & 0.5 & setosa \\\\\n",
       "\t25 & 4.8 & 3.4 & 1.9 & 0.2 & setosa \\\\\n",
       "\t26 & 5.0 & 3.0 & 1.6 & 0.2 & setosa \\\\\n",
       "\t27 & 5.0 & 3.4 & 1.6 & 0.4 & setosa \\\\\n",
       "\t28 & 5.2 & 3.5 & 1.5 & 0.2 & setosa \\\\\n",
       "\t29 & 5.2 & 3.4 & 1.4 & 0.2 & setosa \\\\\n",
       "\t30 & 4.7 & 3.2 & 1.6 & 0.2 & setosa \\\\\n",
       "\t$\\dots$ & $\\dots$ & $\\dots$ & $\\dots$ & $\\dots$ & $\\dots$ \\\\\n",
       "\\end{tabular}\n"
      ],
      "text/plain": [
       "\u001b[1m150×5 DataFrame\u001b[0m\n",
       "\u001b[1m Row \u001b[0m│\u001b[1m sepal_length \u001b[0m\u001b[1m sepal_width \u001b[0m\u001b[1m petal_length \u001b[0m\u001b[1m petal_width \u001b[0m\u001b[1m species   \u001b[0m\n",
       "\u001b[1m     \u001b[0m│\u001b[90m Float64      \u001b[0m\u001b[90m Float64     \u001b[0m\u001b[90m Float64      \u001b[0m\u001b[90m Float64     \u001b[0m\u001b[90m String15  \u001b[0m\n",
       "─────┼─────────────────────────────────────────────────────────────────\n",
       "   1 │          5.1          3.5           1.4          0.2  setosa\n",
       "   2 │          4.9          3.0           1.4          0.2  setosa\n",
       "   3 │          4.7          3.2           1.3          0.2  setosa\n",
       "   4 │          4.6          3.1           1.5          0.2  setosa\n",
       "   5 │          5.0          3.6           1.4          0.2  setosa\n",
       "   6 │          5.4          3.9           1.7          0.4  setosa\n",
       "   7 │          4.6          3.4           1.4          0.3  setosa\n",
       "   8 │          5.0          3.4           1.5          0.2  setosa\n",
       "   9 │          4.4          2.9           1.4          0.2  setosa\n",
       "  10 │          4.9          3.1           1.5          0.1  setosa\n",
       "  11 │          5.4          3.7           1.5          0.2  setosa\n",
       "  ⋮  │      ⋮             ⋮            ⋮             ⋮           ⋮\n",
       " 141 │          6.7          3.1           5.6          2.4  virginica\n",
       " 142 │          6.9          3.1           5.1          2.3  virginica\n",
       " 143 │          5.8          2.7           5.1          1.9  virginica\n",
       " 144 │          6.8          3.2           5.9          2.3  virginica\n",
       " 145 │          6.7          3.3           5.7          2.5  virginica\n",
       " 146 │          6.7          3.0           5.2          2.3  virginica\n",
       " 147 │          6.3          2.5           5.0          1.9  virginica\n",
       " 148 │          6.5          3.0           5.2          2.0  virginica\n",
       " 149 │          6.2          3.4           5.4          2.3  virginica\n",
       " 150 │          5.9          3.0           5.1          1.8  virginica\n",
       "\u001b[36m                                                       129 rows omitted\u001b[0m"
      ]
     },
     "execution_count": 5,
     "metadata": {},
     "output_type": "execute_result"
    }
   ],
   "source": [
    "df = CSV.read(\"/Users/rock/Git_Repo/Julia_Codes/Data/iris.csv\", DataFrame)"
   ]
  },
  {
   "cell_type": "code",
   "execution_count": 6,
   "metadata": {},
   "outputs": [
    {
     "data": {
      "text/plain": [
       "(150, 5)"
      ]
     },
     "execution_count": 6,
     "metadata": {},
     "output_type": "execute_result"
    }
   ],
   "source": [
    "# Shape of Dataset\n",
    "size(df)"
   ]
  },
  {
   "cell_type": "code",
   "execution_count": 7,
   "metadata": {},
   "outputs": [
    {
     "data": {
      "text/plain": [
       "5-element Vector{String}:\n",
       " \"sepal_length\"\n",
       " \"sepal_width\"\n",
       " \"petal_length\"\n",
       " \"petal_width\"\n",
       " \"species\""
      ]
     },
     "execution_count": 7,
     "metadata": {},
     "output_type": "execute_result"
    }
   ],
   "source": [
    "# List of columns\n",
    "names(df) "
   ]
  },
  {
   "cell_type": "code",
   "execution_count": 8,
   "metadata": {},
   "outputs": [
    {
     "data": {
      "text/html": [
       "<div class=\"data-frame\"><p>2 rows × 5 columns</p><table class=\"data-frame\"><thead><tr><th></th><th>sepal_length</th><th>sepal_width</th><th>petal_length</th><th>petal_width</th><th>species</th></tr><tr><th></th><th title=\"Float64\">Float64</th><th title=\"Float64\">Float64</th><th title=\"Float64\">Float64</th><th title=\"Float64\">Float64</th><th title=\"String15\">String15</th></tr></thead><tbody><tr><th>1</th><td>5.1</td><td>3.5</td><td>1.4</td><td>0.2</td><td>setosa</td></tr><tr><th>2</th><td>4.9</td><td>3.0</td><td>1.4</td><td>0.2</td><td>setosa</td></tr></tbody></table></div>"
      ],
      "text/latex": [
       "\\begin{tabular}{r|ccccc}\n",
       "\t& sepal\\_length & sepal\\_width & petal\\_length & petal\\_width & species\\\\\n",
       "\t\\hline\n",
       "\t& Float64 & Float64 & Float64 & Float64 & String15\\\\\n",
       "\t\\hline\n",
       "\t1 & 5.1 & 3.5 & 1.4 & 0.2 & setosa \\\\\n",
       "\t2 & 4.9 & 3.0 & 1.4 & 0.2 & setosa \\\\\n",
       "\\end{tabular}\n"
      ],
      "text/plain": [
       "\u001b[1m2×5 DataFrame\u001b[0m\n",
       "\u001b[1m Row \u001b[0m│\u001b[1m sepal_length \u001b[0m\u001b[1m sepal_width \u001b[0m\u001b[1m petal_length \u001b[0m\u001b[1m petal_width \u001b[0m\u001b[1m species  \u001b[0m\n",
       "\u001b[1m     \u001b[0m│\u001b[90m Float64      \u001b[0m\u001b[90m Float64     \u001b[0m\u001b[90m Float64      \u001b[0m\u001b[90m Float64     \u001b[0m\u001b[90m String15 \u001b[0m\n",
       "─────┼────────────────────────────────────────────────────────────────\n",
       "   1 │          5.1          3.5           1.4          0.2  setosa\n",
       "   2 │          4.9          3.0           1.4          0.2  setosa"
      ]
     },
     "execution_count": 8,
     "metadata": {},
     "output_type": "execute_result"
    }
   ],
   "source": [
    "# First 10 rows\n",
    "first(df, 2)"
   ]
  },
  {
   "cell_type": "code",
   "execution_count": 9,
   "metadata": {},
   "outputs": [
    {
     "data": {
      "text/html": [
       "<div class=\"data-frame\"><p>5 rows × 7 columns</p><table class=\"data-frame\"><thead><tr><th></th><th>variable</th><th>mean</th><th>min</th><th>median</th><th>max</th><th>nmissing</th><th>eltype</th></tr><tr><th></th><th title=\"Symbol\">Symbol</th><th title=\"Union{Nothing, Float64}\">Union…</th><th title=\"Any\">Any</th><th title=\"Union{Nothing, Float64}\">Union…</th><th title=\"Any\">Any</th><th title=\"Int64\">Int64</th><th title=\"DataType\">DataType</th></tr></thead><tbody><tr><th>1</th><td>sepal_length</td><td>5.84333</td><td>4.3</td><td>5.8</td><td>7.9</td><td>0</td><td>Float64</td></tr><tr><th>2</th><td>sepal_width</td><td>3.054</td><td>2.0</td><td>3.0</td><td>4.4</td><td>0</td><td>Float64</td></tr><tr><th>3</th><td>petal_length</td><td>3.75867</td><td>1.0</td><td>4.35</td><td>6.9</td><td>0</td><td>Float64</td></tr><tr><th>4</th><td>petal_width</td><td>1.19867</td><td>0.1</td><td>1.3</td><td>2.5</td><td>0</td><td>Float64</td></tr><tr><th>5</th><td>species</td><td></td><td>setosa</td><td></td><td>virginica</td><td>0</td><td>String15</td></tr></tbody></table></div>"
      ],
      "text/latex": [
       "\\begin{tabular}{r|ccccccc}\n",
       "\t& variable & mean & min & median & max & nmissing & eltype\\\\\n",
       "\t\\hline\n",
       "\t& Symbol & Union… & Any & Union… & Any & Int64 & DataType\\\\\n",
       "\t\\hline\n",
       "\t1 & sepal\\_length & 5.84333 & 4.3 & 5.8 & 7.9 & 0 & Float64 \\\\\n",
       "\t2 & sepal\\_width & 3.054 & 2.0 & 3.0 & 4.4 & 0 & Float64 \\\\\n",
       "\t3 & petal\\_length & 3.75867 & 1.0 & 4.35 & 6.9 & 0 & Float64 \\\\\n",
       "\t4 & petal\\_width & 1.19867 & 0.1 & 1.3 & 2.5 & 0 & Float64 \\\\\n",
       "\t5 & species &  & setosa &  & virginica & 0 & String15 \\\\\n",
       "\\end{tabular}\n"
      ],
      "text/plain": [
       "\u001b[1m5×7 DataFrame\u001b[0m\n",
       "\u001b[1m Row \u001b[0m│\u001b[1m variable     \u001b[0m\u001b[1m mean    \u001b[0m\u001b[1m min    \u001b[0m\u001b[1m median \u001b[0m\u001b[1m max       \u001b[0m\u001b[1m nmissing \u001b[0m\u001b[1m eltype   \u001b[0m\n",
       "\u001b[1m     \u001b[0m│\u001b[90m Symbol       \u001b[0m\u001b[90m Union…  \u001b[0m\u001b[90m Any    \u001b[0m\u001b[90m Union… \u001b[0m\u001b[90m Any       \u001b[0m\u001b[90m Int64    \u001b[0m\u001b[90m DataType \u001b[0m\n",
       "─────┼──────────────────────────────────────────────────────────────────────\n",
       "   1 │ sepal_length  5.84333  4.3     5.8     7.9               0  Float64\n",
       "   2 │ sepal_width   3.054    2.0     3.0     4.4               0  Float64\n",
       "   3 │ petal_length  3.75867  1.0     4.35    6.9               0  Float64\n",
       "   4 │ petal_width   1.19867  0.1     1.3     2.5               0  Float64\n",
       "   5 │ species      \u001b[90m         \u001b[0m setosa \u001b[90m        \u001b[0m virginica         0  String15"
      ]
     },
     "execution_count": 9,
     "metadata": {},
     "output_type": "execute_result"
    }
   ],
   "source": [
    "# to get statistics of a dataset\n",
    "describe(df)"
   ]
  },
  {
   "cell_type": "code",
   "execution_count": 10,
   "metadata": {},
   "outputs": [
    {
     "data": {
      "text/html": [
       "<div class=\"data-frame\"><p>150 rows × 1 columns</p><table class=\"data-frame\"><thead><tr><th></th><th>sepal_length</th></tr><tr><th></th><th title=\"Float64\">Float64</th></tr></thead><tbody><tr><th>1</th><td>5.1</td></tr><tr><th>2</th><td>4.9</td></tr><tr><th>3</th><td>4.7</td></tr><tr><th>4</th><td>4.6</td></tr><tr><th>5</th><td>5.0</td></tr><tr><th>6</th><td>5.4</td></tr><tr><th>7</th><td>4.6</td></tr><tr><th>8</th><td>5.0</td></tr><tr><th>9</th><td>4.4</td></tr><tr><th>10</th><td>4.9</td></tr><tr><th>11</th><td>5.4</td></tr><tr><th>12</th><td>4.8</td></tr><tr><th>13</th><td>4.8</td></tr><tr><th>14</th><td>4.3</td></tr><tr><th>15</th><td>5.8</td></tr><tr><th>16</th><td>5.7</td></tr><tr><th>17</th><td>5.4</td></tr><tr><th>18</th><td>5.1</td></tr><tr><th>19</th><td>5.7</td></tr><tr><th>20</th><td>5.1</td></tr><tr><th>21</th><td>5.4</td></tr><tr><th>22</th><td>5.1</td></tr><tr><th>23</th><td>4.6</td></tr><tr><th>24</th><td>5.1</td></tr><tr><th>25</th><td>4.8</td></tr><tr><th>26</th><td>5.0</td></tr><tr><th>27</th><td>5.0</td></tr><tr><th>28</th><td>5.2</td></tr><tr><th>29</th><td>5.2</td></tr><tr><th>30</th><td>4.7</td></tr><tr><th>&vellip;</th><td>&vellip;</td></tr></tbody></table></div>"
      ],
      "text/latex": [
       "\\begin{tabular}{r|c}\n",
       "\t& sepal\\_length\\\\\n",
       "\t\\hline\n",
       "\t& Float64\\\\\n",
       "\t\\hline\n",
       "\t1 & 5.1 \\\\\n",
       "\t2 & 4.9 \\\\\n",
       "\t3 & 4.7 \\\\\n",
       "\t4 & 4.6 \\\\\n",
       "\t5 & 5.0 \\\\\n",
       "\t6 & 5.4 \\\\\n",
       "\t7 & 4.6 \\\\\n",
       "\t8 & 5.0 \\\\\n",
       "\t9 & 4.4 \\\\\n",
       "\t10 & 4.9 \\\\\n",
       "\t11 & 5.4 \\\\\n",
       "\t12 & 4.8 \\\\\n",
       "\t13 & 4.8 \\\\\n",
       "\t14 & 4.3 \\\\\n",
       "\t15 & 5.8 \\\\\n",
       "\t16 & 5.7 \\\\\n",
       "\t17 & 5.4 \\\\\n",
       "\t18 & 5.1 \\\\\n",
       "\t19 & 5.7 \\\\\n",
       "\t20 & 5.1 \\\\\n",
       "\t21 & 5.4 \\\\\n",
       "\t22 & 5.1 \\\\\n",
       "\t23 & 4.6 \\\\\n",
       "\t24 & 5.1 \\\\\n",
       "\t25 & 4.8 \\\\\n",
       "\t26 & 5.0 \\\\\n",
       "\t27 & 5.0 \\\\\n",
       "\t28 & 5.2 \\\\\n",
       "\t29 & 5.2 \\\\\n",
       "\t30 & 4.7 \\\\\n",
       "\t$\\dots$ & $\\dots$ \\\\\n",
       "\\end{tabular}\n"
      ],
      "text/plain": [
       "\u001b[1m150×1 DataFrame\u001b[0m\n",
       "\u001b[1m Row \u001b[0m│\u001b[1m sepal_length \u001b[0m\n",
       "\u001b[1m     \u001b[0m│\u001b[90m Float64      \u001b[0m\n",
       "─────┼──────────────\n",
       "   1 │          5.1\n",
       "   2 │          4.9\n",
       "   3 │          4.7\n",
       "   4 │          4.6\n",
       "   5 │          5.0\n",
       "   6 │          5.4\n",
       "   7 │          4.6\n",
       "   8 │          5.0\n",
       "   9 │          4.4\n",
       "  10 │          4.9\n",
       "  11 │          5.4\n",
       "  ⋮  │      ⋮\n",
       " 141 │          6.7\n",
       " 142 │          6.9\n",
       " 143 │          5.8\n",
       " 144 │          6.8\n",
       " 145 │          6.7\n",
       " 146 │          6.7\n",
       " 147 │          6.3\n",
       " 148 │          6.5\n",
       " 149 │          6.2\n",
       " 150 │          5.9\n",
       "\u001b[36m    129 rows omitted\u001b[0m"
      ]
     },
     "execution_count": 10,
     "metadata": {},
     "output_type": "execute_result"
    }
   ],
   "source": [
    "df[:, r\"sepal_length\"]"
   ]
  },
  {
   "cell_type": "code",
   "execution_count": 11,
   "metadata": {},
   "outputs": [
    {
     "data": {
      "text/html": [
       "<p>DataFrameRow (1 columns)</p><div class=\"data-frame\"><table class=\"data-frame\"><thead><tr><th></th><th>sepal_length</th></tr><tr><th></th><th title=\"Float64\">Float64</th></tr></thead><tbody><tr><th>3</th><td>4.7</td></tr></tbody></table></div>"
      ],
      "text/latex": [
       "\\begin{tabular}{r|c}\n",
       "\t& sepal\\_length\\\\\n",
       "\t\\hline\n",
       "\t& Float64\\\\\n",
       "\t\\hline\n",
       "\t3 & 4.7 \\\\\n",
       "\\end{tabular}\n"
      ],
      "text/plain": [
       "\u001b[1mDataFrameRow\u001b[0m\n",
       "\u001b[1m Row \u001b[0m│\u001b[1m sepal_length \u001b[0m\n",
       "\u001b[1m     \u001b[0m│\u001b[90m Float64      \u001b[0m\n",
       "─────┼──────────────\n",
       "   3 │          4.7"
      ]
     },
     "execution_count": 11,
     "metadata": {},
     "output_type": "execute_result"
    }
   ],
   "source": [
    "# Selecting the 3rd row of the data frame\n",
    "# df[:3, [:sepal_length]]\n",
    "# df[:, r\"sepal_length\"]\n",
    "df[:3, [:sepal_length]]"
   ]
  },
  {
   "cell_type": "code",
   "execution_count": 12,
   "metadata": {},
   "outputs": [],
   "source": [
    "# x = 1:10; y = rand(10); # These are the plotting data\n",
    "# plot(x, y)"
   ]
  },
  {
   "cell_type": "code",
   "execution_count": 13,
   "metadata": {},
   "outputs": [],
   "source": [
    "# Plot Histogram\n",
    "# Plots.histogram(df[:, r\"sepal_length\"], bins = 50, xlabel = \"sepal_length\", \n",
    "#                 labels = \"Length in cm\")\n",
    "\n",
    "# plot(df, x=:species, y=:sepal_length, kind=\"bar\")"
   ]
  }
 ],
 "metadata": {
  "kernelspec": {
   "display_name": "Julia 1.7.3",
   "language": "julia",
   "name": "julia-1.7"
  },
  "language_info": {
   "file_extension": ".jl",
   "mimetype": "application/julia",
   "name": "julia",
   "version": "1.7.3"
  },
  "vscode": {
   "interpreter": {
    "hash": "ae5692b1f97dd46fcbbb8e0a0b3f9fe8151675a3c0f84385675bf92f2f60d14a"
   }
  }
 },
 "nbformat": 4,
 "nbformat_minor": 2
}
